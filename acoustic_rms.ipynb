{
 "cells": [
  {
   "cell_type": "markdown",
   "metadata": {},
   "source": [
    "## Tutoriel : interagir avec le système de stockage S3 du SSP Cloud (MinIO)"
   ]
  },
  {
   "cell_type": "code",
   "execution_count": 3,
   "metadata": {},
   "outputs": [],
   "source": [
    "import os\n",
    "\n",
    "import pandas as pd\n",
    "import numpy as np\n",
    "import s3fs\n",
    "import zipfile"
   ]
  },
  {
   "cell_type": "markdown",
   "metadata": {},
   "source": [
    "### Récupérer les données d'un challenge"
   ]
  },
  {
   "cell_type": "code",
   "execution_count": 4,
   "metadata": {},
   "outputs": [],
   "source": [
    "# Create filesystem object\n",
    "S3_ENDPOINT_URL = \"https://\" + os.environ[\"AWS_S3_ENDPOINT\"]\n",
    "fs = s3fs.S3FileSystem(client_kwargs={'endpoint_url': S3_ENDPOINT_URL})"
   ]
  },
  {
   "cell_type": "code",
   "execution_count": 5,
   "metadata": {},
   "outputs": [
    {
     "data": {
      "text/plain": [
       "[None]"
      ]
     },
     "execution_count": 5,
     "metadata": {},
     "output_type": "execute_result"
    }
   ],
   "source": [
    "# Télécharger les données dans le service\n",
    "PATH_IN = 'samicarret/diffusion/TreatedRoomSmallSet2.zip'\n",
    "fs.download(PATH_IN, 'data/HC3.zip')"
   ]
  },
  {
   "cell_type": "code",
   "execution_count": 6,
   "metadata": {},
   "outputs": [],
   "source": [
    "# Décompresser les données\n",
    "with zipfile.ZipFile(\"data/HC3.zip\",\"r\") as zip_file:\n",
    "    zip_file.extractall(\"data/\")"
   ]
  },
  {
   "cell_type": "markdown",
   "metadata": {},
   "source": [
    "### Lecture des fichiers"
   ]
  },
  {
   "cell_type": "code",
   "execution_count": 7,
   "metadata": {},
   "outputs": [],
   "source": [
    "file = np.load('data/TreatedRoomSmallSet/Human1/centroid.npy')"
   ]
  },
  {
   "cell_type": "code",
   "execution_count": 8,
   "metadata": {},
   "outputs": [
    {
     "data": {
      "text/plain": [
       "array([[ 2425.77063278,  -657.46941402],\n",
       "       [ 1744.17081831,  -944.2440339 ],\n",
       "       [ 2320.19919293, -2464.72205234]])"
      ]
     },
     "execution_count": 8,
     "metadata": {},
     "output_type": "execute_result"
    }
   ],
   "source": [
    "file"
   ]
  },
  {
   "cell_type": "code",
   "execution_count": 10,
   "metadata": {},
   "outputs": [],
   "source": [
    "audio = np.load('data/TreatedRoomSmallSet/Human1/audio.npy')\n",
    "adjusted_audio = np.load('data/TreatedRoomSmallSet/Human1/adjusted_audio.npy')\n",
    "\n",
    "deconvolved = np.load('data/TreatedRoomSmallSet/Human1/deconvolved.npy')\n",
    "directlines = np.load('data/TreatedRoomSmallSet/Human1/directlines.npy')\n"
   ]
  },
  {
   "cell_type": "code",
   "execution_count": 11,
   "metadata": {},
   "outputs": [
    {
     "name": "stdout",
     "output_type": "stream",
     "text": [
      "Shape des niveaux RMS: (3, 10)\n",
      "Niveaux RMS pour le premier enregistrement:\n",
      "[29.70875137 29.20671747 25.63379974 23.46920801 24.2696896  27.74678054\n",
      " 20.81851468 25.1604534  24.41105036 31.64709987]\n"
     ]
    }
   ],
   "source": [
    "rms_audio = np.sqrt(np.mean(np.square(audio), axis=2))  # Calculer RMS sur l'axe des échantillons\n",
    "\n",
    "# Vérifier la forme des niveaux RMS\n",
    "print(\"Shape des niveaux RMS:\", rms_audio.shape)  # [N_datapoints, N_Microphones]\n",
    "\n",
    "# Exemple : Niveaux RMS pour le premier enregistrement\n",
    "print(\"Niveaux RMS pour le premier enregistrement:\")\n",
    "print(rms_audio[0])  # Afficher les niveaux RMS du premier enregistrement\n"
   ]
  },
  {
   "cell_type": "code",
   "execution_count": 13,
   "metadata": {},
   "outputs": [
    {
     "name": "stdout",
     "output_type": "stream",
     "text": [
      "Shape du tableau combiné: (3, 12)\n",
      "Premières lignes du tableau combiné:\n",
      "[[   29.70875137    29.20671747    25.63379974    23.46920801\n",
      "     24.2696896     27.74678054    20.81851468    25.1604534\n",
      "     24.41105036    31.64709987  2425.77063278  -657.46941402]\n",
      " [   31.34640352    29.93810895    30.00472626    24.26575375\n",
      "     31.04475679    29.63319339    22.08850504    27.39462351\n",
      "     26.56226851    38.20548557  1744.17081831  -944.2440339 ]\n",
      " [   34.85986726    29.18252056    25.56728984    24.03735916\n",
      "     23.73848728    27.03857834    22.23435472    25.80769672\n",
      "     23.98810621    32.3542175   2320.19919293 -2464.72205234]]\n"
     ]
    }
   ],
   "source": [
    "# Concaténer les niveaux RMS avec les positions de centroid\n",
    "data_with_positions = np.concatenate((rms_audio, file), axis=1)\n",
    "\n",
    "# Vérifier la forme du tableau combiné\n",
    "print(\"Shape du tableau combiné:\", data_with_positions.shape)  # [N_datapoints, N_Microphones + 2]\n",
    "\n",
    "# Vérifier les premières lignes du tableau\n",
    "print(\"Premières lignes du tableau combiné:\")\n",
    "print(data_with_positions[:5])  # Afficher les premières lignes pour vérification\n"
   ]
  },
  {
   "cell_type": "code",
   "execution_count": 14,
   "metadata": {},
   "outputs": [
    {
     "name": "stdout",
     "output_type": "stream",
     "text": [
      "Shape du tableau combiné: (3, 12)\n",
      "Premières lignes du tableau combiné:\n",
      "[[   29.70875137    29.20671747    25.63379974    23.46920801\n",
      "     24.2696896     27.74678054    20.81851468    25.1604534\n",
      "     24.41105036    31.64709987  2425.77063278  -657.46941402]\n",
      " [   31.34640352    29.93810895    30.00472626    24.26575375\n",
      "     31.04475679    29.63319339    22.08850504    27.39462351\n",
      "     26.56226851    38.20548557  1744.17081831  -944.2440339 ]\n",
      " [   34.85986726    29.18252056    25.56728984    24.03735916\n",
      "     23.73848728    27.03857834    22.23435472    25.80769672\n",
      "     23.98810621    32.3542175   2320.19919293 -2464.72205234]]\n"
     ]
    }
   ],
   "source": [
    "import numpy as np\n",
    "from sklearn.linear_model import LinearRegression\n",
    "from sklearn.metrics import mean_squared_error\n",
    "from sklearn.model_selection import train_test_split\n",
    "\n",
    "# Charger les données nécessaires (audio.npy et centroid.npy)\n",
    "audio = np.load('data/TreatedRoomSmallSet/Human1/audio.npy')\n",
    "centroid = np.load('data/TreatedRoomSmallSet/Human1/centroid.npy')\n",
    "\n",
    "# Calculer les niveaux RMS pour chaque enregistrement pour les 4 micros\n",
    "rms_audio = np.sqrt(np.mean(np.square(audio), axis=2))\n",
    "\n",
    "# Concaténer les niveaux RMS avec les positions de centroid\n",
    "data_with_positions = np.concatenate((rms_audio, centroid), axis=1)\n",
    "\n",
    "# Vérifier la forme du tableau combiné\n",
    "print(\"Shape du tableau combiné:\", data_with_positions.shape)  # [N_datapoints, N_Microphones + 2]\n",
    "\n",
    "# Vérifier les premières lignes du tableau\n",
    "print(\"Premières lignes du tableau combiné:\")\n",
    "print(data_with_positions[:5])  # Afficher les premières lignes pour vérification\n"
   ]
  },
  {
   "cell_type": "code",
   "execution_count": 19,
   "metadata": {},
   "outputs": [],
   "source": [
    "import os\n",
    "\n",
    "# Créer le dossier data s'il n'existe pas\n",
    "if not os.path.exists('data'):\n",
    "    os.makedirs('data')"
   ]
  },
  {
   "cell_type": "code",
   "execution_count": 20,
   "metadata": {},
   "outputs": [],
   "source": [
    "import numpy as np\n",
    "\n",
    "# Charger les données nécessaires (audio.npy et centroid.npy)\n",
    "audio = np.load('data/TreatedRoomSmallSet/Human1/audio.npy')\n",
    "centroid = np.load('data/TreatedRoomSmallSet/Human1/centroid.npy')\n",
    "\n",
    "# Calculer les niveaux RMS pour chaque enregistrement pour les 4 micros\n",
    "rms_audio = np.sqrt(np.mean(np.square(audio), axis=2))\n",
    "\n",
    "# Concaténer les niveaux RMS avec les positions de centroid\n",
    "data_with_positions = np.concatenate((rms_audio, centroid), axis=1)\n",
    "\n",
    "# Sauvegarder les données combinées dans le dossier \"data\"\n",
    "np.save('data/donnees_combinees.npy', data_with_positions)\n"
   ]
  },
  {
   "cell_type": "code",
   "execution_count": 21,
   "metadata": {},
   "outputs": [
    {
     "name": "stdout",
     "output_type": "stream",
     "text": [
      "Root Mean Squared Error (RMSE): 225.58790131150187\n",
      "Prédiction de la position pour les niveaux RMS : [[  30.39965014   32.66303892   19.03932157   27.20772662   26.55977958\n",
      "    38.11476921 1970.49231441 -980.28317514]]\n"
     ]
    }
   ],
   "source": [
    "import numpy as np\n",
    "from sklearn.linear_model import LinearRegression\n",
    "from sklearn.metrics import mean_squared_error\n",
    "from sklearn.model_selection import train_test_split\n",
    "\n",
    "# Charger les données combinées (niveaux RMS et positions) depuis le dossier \"data\"\n",
    "data_with_positions = np.load('data/donnees_combinees.npy')\n",
    "\n",
    "# Séparer les features (niveaux RMS) et les labels (positions)\n",
    "X = data_with_positions[:, :4]  # Les 4 premières colonnes sont les features (niveaux RMS)\n",
    "y = data_with_positions[:, 4:]  # Les colonnes suivantes sont les labels (positions)\n",
    "\n",
    "# Diviser les données en ensembles d'entraînement et de test\n",
    "X_train, X_test, y_train, y_test = train_test_split(X, y, test_size=0.2, random_state=42)\n",
    "\n",
    "# Créer un modèle de régression linéaire\n",
    "model = LinearRegression()\n",
    "\n",
    "# Entraîner le modèle sur l'ensemble d'entraînement\n",
    "model.fit(X_train, y_train)\n",
    "\n",
    "# Prédire les positions sur l'ensemble de test\n",
    "y_pred = model.predict(X_test)\n",
    "\n",
    "# Calculer l'erreur moyenne quadratique (RMSE)\n",
    "rmse = np.sqrt(mean_squared_error(y_test, y_pred))\n",
    "print(\"Root Mean Squared Error (RMSE):\", rmse)\n",
    "\n",
    "# Exemple de prédiction pour une nouvelle donnée (pour illustrer)\n",
    "nouvelle_donnee = np.array([[30.0, 28.0, 26.0, 24.0]])  # Nouveaux niveaux RMS à prédire\n",
    "prediction = model.predict(nouvelle_donnee)\n",
    "print(\"Prédiction de la position pour les niveaux RMS :\", prediction)\n",
    "\n",
    "# Sauvegarder le modèle entraîné si nécessaire\n",
    "# from joblib import dump\n",
    "# dump(model, 'modele_de_regression.joblib')\n"
   ]
  }
 ],
 "metadata": {
  "kernelspec": {
   "display_name": "base",
   "language": "python",
   "name": "python3"
  },
  "language_info": {
   "codemirror_mode": {
    "name": "ipython",
    "version": 3
   },
   "file_extension": ".py",
   "mimetype": "text/x-python",
   "name": "python",
   "nbconvert_exporter": "python",
   "pygments_lexer": "ipython3",
   "version": "3.11.6"
  }
 },
 "nbformat": 4,
 "nbformat_minor": 2
}
