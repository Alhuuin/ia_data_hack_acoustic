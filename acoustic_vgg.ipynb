{
 "cells": [
  {
   "cell_type": "markdown",
   "metadata": {},
   "source": [
    "## Tutoriel : interagir avec le système de stockage S3 du SSP Cloud (MinIO)"
   ]
  },
  {
   "cell_type": "code",
   "execution_count": 14,
   "metadata": {},
   "outputs": [
    {
     "name": "stdout",
     "output_type": "stream",
     "text": [
      "The autoreload extension is already loaded. To reload it, use:\n",
      "  %reload_ext autoreload\n"
     ]
    }
   ],
   "source": [
    "import os\n",
    "import sys\n",
    "\n",
    "import pandas as pd\n",
    "import numpy as np\n",
    "import s3fs\n",
    "import zipfile\n",
    "\n",
    "sys.path.insert(0, 'datasets/')\n",
    "import dataset\n",
    "import roomsetup\n",
    "import treatedroom\n",
    "\n",
    "%load_ext autoreload\n",
    "%autoreload"
   ]
  },
  {
   "cell_type": "markdown",
   "metadata": {},
   "source": [
    "### Récupérer les données d'un challenge"
   ]
  },
  {
   "cell_type": "code",
   "execution_count": 3,
   "metadata": {},
   "outputs": [],
   "source": [
    "# Create filesystem object\n",
    "S3_ENDPOINT_URL = \"https://\" + os.environ[\"AWS_S3_ENDPOINT\"]\n",
    "fs = s3fs.S3FileSystem(client_kwargs={'endpoint_url': S3_ENDPOINT_URL})"
   ]
  },
  {
   "cell_type": "code",
   "execution_count": 5,
   "metadata": {},
   "outputs": [
    {
     "data": {
      "text/plain": [
       "[None]"
      ]
     },
     "execution_count": 5,
     "metadata": {},
     "output_type": "execute_result"
    }
   ],
   "source": [
    "# Télécharger les données dans le service\n",
    "PATH_IN = 'samicarret/diffusion/TreatedRoomSmallSet2.zip'\n",
    "fs.download(PATH_IN, 'data/HC3.zip')"
   ]
  },
  {
   "cell_type": "code",
   "execution_count": 6,
   "metadata": {},
   "outputs": [],
   "source": [
    "# Décompresser les données\n",
    "with zipfile.ZipFile(\"data/HC3.zip\",\"r\") as zip_file:\n",
    "    zip_file.extractall(\"data/\")"
   ]
  },
  {
   "cell_type": "markdown",
   "metadata": {},
   "source": [
    "### Lecture des fichiers"
   ]
  },
  {
   "cell_type": "code",
   "execution_count": null,
   "metadata": {},
   "outputs": [],
   "source": []
  },
  {
   "cell_type": "code",
   "execution_count": 10,
   "metadata": {},
   "outputs": [],
   "source": [
    "file = np.load('data/TreatedRoomSmallSet/Human1/music_audio.npy')"
   ]
  },
  {
   "cell_type": "code",
   "execution_count": 11,
   "metadata": {},
   "outputs": [
    {
     "name": "stdout",
     "output_type": "stream",
     "text": [
      "[[[  0  -3  -1 ...  -4  -6  -5]\n",
      "  [ -9  -9  -8 ...   3   3   3]\n",
      "  [  5   5   4 ...  -7  -8  -7]\n",
      "  ...\n",
      "  [  0   0   1 ...   5   5   3]\n",
      "  [  5   5   3 ...   6   6   4]\n",
      "  [ 49  46  47 ...  -8  -7  -8]]\n",
      "\n",
      " [[ 22  21  23 ...  -8 -12  -9]\n",
      "  [  7   8   8 ...  -1  -3  -5]\n",
      "  [ 13  11  11 ... -10 -11 -11]\n",
      "  ...\n",
      "  [  4   4   4 ... -15 -13 -13]\n",
      "  [  7   3   2 ... -16 -17 -18]\n",
      "  [-12 -10 -13 ... -15 -12 -17]]\n",
      "\n",
      " [[  5   5   6 ...  21  20  20]\n",
      "  [  1   2   0 ...   5   4   2]\n",
      "  [ 11  10  15 ...  17  19  21]\n",
      "  ...\n",
      "  [ -1  -2  -2 ...  24  24  23]\n",
      "  [ -3  -4  -6 ...  12  12  13]\n",
      "  [ 15  16  18 ...  33  35  35]]]\n"
     ]
    },
    {
     "data": {
      "text/plain": [
       "(3, 10, 672000)"
      ]
     },
     "execution_count": 11,
     "metadata": {},
     "output_type": "execute_result"
    }
   ],
   "source": [
    "print(file)\n",
    "file.shape"
   ]
  },
  {
   "cell_type": "code",
   "execution_count": null,
   "metadata": {},
   "outputs": [],
   "source": []
  }
 ],
 "metadata": {
  "kernelspec": {
   "display_name": "base",
   "language": "python",
   "name": "python3"
  },
  "language_info": {
   "codemirror_mode": {
    "name": "ipython",
    "version": 3
   },
   "file_extension": ".py",
   "mimetype": "text/x-python",
   "name": "python",
   "nbconvert_exporter": "python",
   "pygments_lexer": "ipython3",
   "version": "3.11.6"
  }
 },
 "nbformat": 4,
 "nbformat_minor": 2
}
