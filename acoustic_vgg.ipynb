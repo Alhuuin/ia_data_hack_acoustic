{
 "cells": [
  {
   "cell_type": "markdown",
   "metadata": {},
   "source": [
    "### Acoustic VGGish"
   ]
  },
  {
   "cell_type": "code",
   "execution_count": 1,
   "metadata": {},
   "outputs": [
    {
     "ename": "ModuleNotFoundError",
     "evalue": "No module named 'torch'",
     "output_type": "error",
     "traceback": [
      "\u001b[0;31m---------------------------------------------------------------------------\u001b[0m",
      "\u001b[0;31mModuleNotFoundError\u001b[0m                       Traceback (most recent call last)",
      "\u001b[1;32m/home/onyxia/work/ia_data_hack_acoustic/acoustic_vgg.ipynb Cell 2\u001b[0m line \u001b[0;36m4\n\u001b[1;32m      <a href='vscode-notebook-cell://user-alicecariou-770564-0.user.lab.sspcloud.fr/home/onyxia/work/ia_data_hack_acoustic/acoustic_vgg.ipynb#W3sdnNjb2RlLXJlbW90ZQ%3D%3D?line=0'>1</a>\u001b[0m \u001b[39mimport\u001b[39;00m \u001b[39mos\u001b[39;00m\n\u001b[1;32m      <a href='vscode-notebook-cell://user-alicecariou-770564-0.user.lab.sspcloud.fr/home/onyxia/work/ia_data_hack_acoustic/acoustic_vgg.ipynb#W3sdnNjb2RlLXJlbW90ZQ%3D%3D?line=1'>2</a>\u001b[0m \u001b[39mimport\u001b[39;00m \u001b[39msys\u001b[39;00m\n\u001b[0;32m----> <a href='vscode-notebook-cell://user-alicecariou-770564-0.user.lab.sspcloud.fr/home/onyxia/work/ia_data_hack_acoustic/acoustic_vgg.ipynb#W3sdnNjb2RlLXJlbW90ZQ%3D%3D?line=3'>4</a>\u001b[0m \u001b[39mimport\u001b[39;00m \u001b[39mtorch\u001b[39;00m\n",
      "\u001b[0;31mModuleNotFoundError\u001b[0m: No module named 'torch'"
     ]
    }
   ],
   "source": [
    "import os\n",
    "import sys\n",
    "\n",
    "import torch"
   ]
  },
  {
   "cell_type": "markdown",
   "metadata": {},
   "source": [
    "### Paramètres globaux à faire varier"
   ]
  },
  {
   "cell_type": "code",
   "execution_count": null,
   "metadata": {},
   "outputs": [],
   "source": [
    "GRID_LENGTH = 200\n",
    "GRID_CELL_SIZE = 0.01\n",
    "# GRID_LENGTH = 400\n",
    "# GRID_CELL_SIZE = 0.005\n",
    "STEP_FREQUENCY = 88200\n",
    "NUM_SUBSTEPS = 2\n",
    "IR_POSITION = [0, 0.7, .2]\n",
    "SAMPLE_POSITION = [0, -0.7, 0.2]\n",
    "# IR_POSITION = [0.9, 0, -0.6]\n",
    "# SAMPLE_POSITION = [0.9, 0, -0.6]\n",
    "N_STEPS = 8820\n",
    "\n",
    "# VGGISH\n",
    "PSEUDO_SAMPLE_RATE = 16000"
   ]
  }
 ],
 "metadata": {
  "kernelspec": {
   "display_name": "base",
   "language": "python",
   "name": "python3"
  },
  "language_info": {
   "codemirror_mode": {
    "name": "ipython",
    "version": 3
   },
   "file_extension": ".py",
   "mimetype": "text/x-python",
   "name": "python",
   "nbconvert_exporter": "python",
   "pygments_lexer": "ipython3",
   "version": "3.11.6"
  }
 },
 "nbformat": 4,
 "nbformat_minor": 2
}
