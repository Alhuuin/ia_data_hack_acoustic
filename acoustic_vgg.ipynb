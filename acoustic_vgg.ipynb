{
 "cells": [
  {
   "cell_type": "markdown",
   "metadata": {},
   "source": [
    "### Acoustic VGGish"
   ]
  },
  {
   "cell_type": "code",
   "execution_count": 1,
   "metadata": {},
   "outputs": [],
   "source": [
    "import os\n",
    "import sys\n",
    "import random\n",
    "\n",
    "import numpy as np\n",
    "import torch\n",
    "import torchaudio.functional as F\n",
    "\n",
    "from torchvggish.vggish import VGG, VGGish, make_layers\n",
    "from torchvggish.vggish_input import waveform_to_examples\n",
    "import torchvggish.mel_features\n",
    "import torchvggish.vggish_params\n"
   ]
  },
  {
   "cell_type": "markdown",
   "metadata": {},
   "source": [
    "### Paramètres globaux à faire varier"
   ]
  },
  {
   "cell_type": "code",
   "execution_count": null,
   "metadata": {},
   "outputs": [],
   "source": [
    "GRID_LENGTH = 200\n",
    "GRID_CELL_SIZE = 0.01\n",
    "# GRID_LENGTH = 400\n",
    "# GRID_CELL_SIZE = 0.005\n",
    "STEP_FREQUENCY = 88200\n",
    "NUM_SUBSTEPS = 2\n",
    "IR_POSITION = [0, 0.7, .2]\n",
    "SAMPLE_POSITION = [0, -0.7, 0.2]\n",
    "# IR_POSITION = [0.9, 0, -0.6]\n",
    "# SAMPLE_POSITION = [0.9, 0, -0.6]\n",
    "N_STEPS = 8820\n",
    "\n",
    "# VGGISH\n",
    "PSEUDO_SAMPLE_RATE = 16000"
   ]
  },
  {
   "cell_type": "markdown",
   "metadata": {},
   "source": [
    "### 2e tentative"
   ]
  },
  {
   "cell_type": "code",
   "execution_count": 6,
   "metadata": {},
   "outputs": [],
   "source": [
    "import tensorflow as tf\n",
    "\n",
    "import numpy as np\n",
    "\n",
    "from sklearn.model_selection import train_test_split"
   ]
  },
  {
   "cell_type": "markdown",
   "metadata": {},
   "source": [
    "### Charger le modèle VGGish"
   ]
  },
  {
   "cell_type": "code",
   "execution_count": null,
   "metadata": {},
   "outputs": [],
   "source": [
    "vgg_graph = tf.Graph()\n",
    "with vgg_graph.as_default():\n",
    "    config = tf.compat.v1.ConfigProto()\n",
    "    config.gpu_options.allow_growth = True\n",
    "    sess = tf.compat.v1.Session(config=config)\n",
    "    vggish_slim.define_vggish_slim(training=True)\n",
    "    vggish_slim.load_vggish_slim_checkpoint(sess, 'chemin/vers/vggish_model.ckpt')"
   ]
  },
  {
   "cell_type": "markdown",
   "metadata": {},
   "source": [
    "### Charger les données d'entrée (RIRs) et de sortie (positions reconnues) depuis les fichiers .npy"
   ]
  },
  {
   "cell_type": "code",
   "execution_count": null,
   "metadata": {},
   "outputs": [],
   "source": [
    "input_data = np.load('chemin/vers/fichier_RIRs.npy')\n",
    "output_data = np.load('chemin/vers/fichier_positions.npy')"
   ]
  },
  {
   "cell_type": "markdown",
   "metadata": {},
   "source": [
    "### Entrainement / Test"
   ]
  },
  {
   "cell_type": "code",
   "execution_count": null,
   "metadata": {},
   "outputs": [],
   "source": [
    "train_input, test_input, train_output, test_output = train_test_split(input_data, output_data, test_size=0.2, random_state=42)"
   ]
  },
  {
   "cell_type": "markdown",
   "metadata": {},
   "source": [
    "### Extraction des caractéristiques avec VGGish"
   ]
  },
  {
   "cell_type": "code",
   "execution_count": null,
   "metadata": {},
   "outputs": [],
   "source": [
    "def extract_vggish_features(data):\n",
    "    features = []\n",
    "    with vgg_graph.as_default():\n",
    "        for rir in data:\n",
    "            spectrogram = vggish_input.waveform_to_examples(rir, vggish_params.SAMPLE_RATE)\n",
    "            features_tensor = sess.graph.get_tensor_by_name(vggish_params.INPUT_TENSOR_NAME)\n",
    "            embedding_tensor = sess.graph.get_tensor_by_name(vggish_params.OUTPUT_TENSOR_NAME)\n",
    "            embedding = sess.run(embedding_tensor, feed_dict={features_tensor: spectrogram})\n",
    "            features.append(embedding)\n",
    "    return np.array(features)"
   ]
  },
  {
   "cell_type": "markdown",
   "metadata": {},
   "source": [
    "### Extraction des caractéristiques pour les ensembles d'entraînement et de test"
   ]
  },
  {
   "cell_type": "code",
   "execution_count": null,
   "metadata": {},
   "outputs": [],
   "source": [
    "train_features = extract_vggish_features(train_input)\n",
    "test_features = extract_vggish_features(test_input)"
   ]
  },
  {
   "cell_type": "markdown",
   "metadata": {},
   "source": [
    "### Modèle de régression sur les caractéristiques VGGish"
   ]
  },
  {
   "cell_type": "code",
   "execution_count": null,
   "metadata": {},
   "outputs": [],
   "source": [
    "model = tf.keras.Sequential([\n",
    "    tf.keras.layers.Dense(64, activation='relu', input_shape=train_features.shape[1:]),\n",
    "    tf.keras.layers.Dense(32, activation='relu'),\n",
    "    tf.keras.layers.Dense(output_data.shape[1])\n",
    "])\n",
    "\n",
    "model.compile(optimizer='adam', loss='mse')\n",
    "\n",
    "model.fit(train_features, train_output, epochs=10, batch_size=32, validation_data=(test_features, test_output))\n",
    "\n",
    "loss = model.evaluate(test_features, test_output)\n",
    "print(\"Perte sur les données de test :\", loss)"
   ]
  },
  {
   "cell_type": "markdown",
   "metadata": {},
   "source": []
  }
 ],
 "metadata": {
  "kernelspec": {
   "display_name": "base",
   "language": "python",
   "name": "python3"
  },
  "language_info": {
   "codemirror_mode": {
    "name": "ipython",
    "version": 3
   },
   "file_extension": ".py",
   "mimetype": "text/x-python",
   "name": "python",
   "nbconvert_exporter": "python",
   "pygments_lexer": "ipython3",
   "version": "3.11.6"
  }
 },
 "nbformat": 4,
 "nbformat_minor": 2
}
