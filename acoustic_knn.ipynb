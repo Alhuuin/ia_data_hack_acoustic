{
 "cells": [
  {
   "cell_type": "markdown",
   "metadata": {},
   "source": [
    "## Tutoriel : interagir avec le système de stockage S3 du SSP Cloud (MinIO)"
   ]
  },
  {
   "cell_type": "code",
   "execution_count": 1,
   "metadata": {},
   "outputs": [],
   "source": [
    "import os\n",
    "\n",
    "import pandas as pd\n",
    "import numpy as np\n",
    "import s3fs\n",
    "import zipfile"
   ]
  },
  {
   "cell_type": "markdown",
   "metadata": {},
   "source": [
    "### Récupérer les données d'un challenge"
   ]
  },
  {
   "cell_type": "code",
   "execution_count": 2,
   "metadata": {},
   "outputs": [],
   "source": [
    "# Create filesystem object\n",
    "S3_ENDPOINT_URL = \"https://\" + os.environ[\"AWS_S3_ENDPOINT\"]\n",
    "fs = s3fs.S3FileSystem(client_kwargs={'endpoint_url': S3_ENDPOINT_URL})"
   ]
  },
  {
   "cell_type": "code",
   "execution_count": 3,
   "metadata": {},
   "outputs": [
    {
     "data": {
      "text/plain": [
       "['gvimont/diffusion/hackathon-minarm-2024/AIVSAI',\n",
       " 'gvimont/diffusion/hackathon-minarm-2024/Acoustique',\n",
       " 'gvimont/diffusion/hackathon-minarm-2024/Similarité']"
      ]
     },
     "execution_count": 3,
     "metadata": {},
     "output_type": "execute_result"
    }
   ],
   "source": [
    "# Lister les challenges\n",
    "fs.ls(\"gvimont/diffusion/hackathon-minarm-2024\")"
   ]
  },
  {
   "cell_type": "code",
   "execution_count": 4,
   "metadata": {},
   "outputs": [
    {
     "data": {
      "text/plain": [
       "['gvimont/diffusion/hackathon-minarm-2024/Acoustique/LivingRoom_preprocessed_hack.zip']"
      ]
     },
     "execution_count": 4,
     "metadata": {},
     "output_type": "execute_result"
    }
   ],
   "source": [
    "# Lister les fichiers d'un challenge\n",
    "fs.ls(\"gvimont/diffusion/hackathon-minarm-2024/Acoustique\")"
   ]
  },
  {
   "cell_type": "code",
   "execution_count": 5,
   "metadata": {},
   "outputs": [
    {
     "ename": "OSError",
     "evalue": "[Errno 28] No space left on device",
     "output_type": "error",
     "traceback": [
      "\u001b[0;31m---------------------------------------------------------------------------\u001b[0m",
      "\u001b[0;31mOSError\u001b[0m                                   Traceback (most recent call last)",
      "\u001b[1;32m/home/onyxia/work/ia_data_hack_acoustic/acoustic_knn.ipynb Cell 7\u001b[0m line \u001b[0;36m2\n\u001b[1;32m      <a href='vscode-notebook-cell://user-matisb-247812-0.user.lab.sspcloud.fr/home/onyxia/work/ia_data_hack_acoustic/acoustic_knn.ipynb#W6sdnNjb2RlLXJlbW90ZQ%3D%3D?line=0'>1</a>\u001b[0m PATH_IN \u001b[39m=\u001b[39m \u001b[39m'\u001b[39m\u001b[39mgvimont/diffusion/hackathon-minarm-2024/Acoustique/LivingRoom_preprocessed_hack.zip\u001b[39m\u001b[39m'\u001b[39m\n\u001b[0;32m----> <a href='vscode-notebook-cell://user-matisb-247812-0.user.lab.sspcloud.fr/home/onyxia/work/ia_data_hack_acoustic/acoustic_knn.ipynb#W6sdnNjb2RlLXJlbW90ZQ%3D%3D?line=1'>2</a>\u001b[0m fs\u001b[39m.\u001b[39;49mdownload(PATH_IN, \u001b[39m'\u001b[39;49m\u001b[39mdata/LivingRoom_preprocessed_hack.zip\u001b[39;49m\u001b[39m'\u001b[39;49m)\n",
      "File \u001b[0;32m/opt/mamba/lib/python3.11/site-packages/fsspec/spec.py:1534\u001b[0m, in \u001b[0;36mAbstractFileSystem.download\u001b[0;34m(self, rpath, lpath, recursive, **kwargs)\u001b[0m\n\u001b[1;32m   1532\u001b[0m \u001b[39mdef\u001b[39;00m \u001b[39mdownload\u001b[39m(\u001b[39mself\u001b[39m, rpath, lpath, recursive\u001b[39m=\u001b[39m\u001b[39mFalse\u001b[39;00m, \u001b[39m*\u001b[39m\u001b[39m*\u001b[39mkwargs):\n\u001b[1;32m   1533\u001b[0m \u001b[39m    \u001b[39m\u001b[39m\"\"\"Alias of `AbstractFileSystem.get`.\"\"\"\u001b[39;00m\n\u001b[0;32m-> 1534\u001b[0m     \u001b[39mreturn\u001b[39;00m \u001b[39mself\u001b[39;49m\u001b[39m.\u001b[39;49mget(rpath, lpath, recursive\u001b[39m=\u001b[39;49mrecursive, \u001b[39m*\u001b[39;49m\u001b[39m*\u001b[39;49mkwargs)\n",
      "File \u001b[0;32m/opt/mamba/lib/python3.11/site-packages/fsspec/asyn.py:118\u001b[0m, in \u001b[0;36msync_wrapper.<locals>.wrappe