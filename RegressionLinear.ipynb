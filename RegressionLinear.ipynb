{
 "cells": [
  {
   "cell_type": "markdown",
   "metadata": {},
   "source": [
    "## Méthode Linear Regression sur le dataset LivingRoom_preprocessed_hack"
   ]
  },
  {
   "cell_type": "code",
   "execution_count": 13,
   "metadata": {},
   "outputs": [],
   "source": [
    "import os\n",
    "\n",
    "import pandas as pd\n",
    "import s3fs\n",
    "import zipfile\n",
    "import matplotlib.pyplot as plt"
   ]
  },
  {
   "cell_type": "markdown",
   "metadata": {},
   "source": [
    "### Récupérer les données du challenge"
   ]
  },
  {
   "cell_type": "code",
   "execution_count": 14,
   "metadata": {},
   "outputs": [],
   "source": [
    "# Create filesystem object\n",
    "S3_ENDPOINT_URL = \"https://\" + os.environ[\"AWS_S3_ENDPOINT\"]\n",
    "fs = s3fs.S3FileSystem(client_kwargs={'endpoint_url': S3_ENDPOINT_URL})"
   ]
  },
  {
   "cell_type": "code",
   "execution_count": 15,
   "metadata": {},
   "outputs": [
    {
     "data": {
      "text/plain": [
       "['gvimont/diffusion/hackathon-minarm-2024/AIVSAI',\n",
       " 'gvimont/diffusion/hackathon-minarm-2024/Acoustique',\n",
       " 'gvimont/diffusion/hackathon-minarm-2024/Similarité']"
      ]
     },
     "execution_count": 15,
     "metadata": {},
     "output_type": "execute_result"
    }
   ],
   "source": [
    "# Lister les challenges\n",
    "fs.ls(\"gvimont/diffusion/hackathon-minarm-2024\")"
   ]
  },
  {
   "cell_type": "code",
   "execution_count": 16,
   "metadata": {},
   "outputs": [
    {
     "data": {
      "text/plain": [
       "['gvimont/diffusion/hackathon-minarm-2024/Acoustique/LivingRoom_preprocessed_hack.zip']"
      ]
     },
     "execution_count": 16,
     "metadata": {},
     "output_type": "execute_result"
    }
   ],
   "source": [
    "# Lister les fichiers d'un challenge\n",
    "fs.ls(\"gvimont/diffusion/hackathon-minarm-2024/Acoustique\")"
   ]
  },
  {
   "cell_type": "code",
   "execution_count": 17,
   "metadata": {},
   "outputs": [
    {
     "ename": "KeyboardInterrupt",
     "evalue": "",
     "output_type": "error",
     "traceback": [
      "\u001b[0;31m---------------------------------------------------------------------------\u001b[0m",
      "\u001b[0;31mKeyboardInterrupt\u001b[0m                         Traceback (most recent call last)",
      "\u001b[1;32m/home/onyxia/work/hackathon-minarm-2024/tutorial-s3.ipynb Cell 7\u001b[0m line \u001b[0;36m3\n\u001b[1;32m      <a href='vscode-notebook-cell://user-warmvne404-36643-0.user.lab.sspcloud.fr/home/onyxia/work/hackathon-minarm-2024/tutorial-s3.ipynb#W6sdnNjb2RlLXJlbW90ZQ%3D%3D?line=0'>1</a>\u001b[0m \u001b[39m# Télécharger les données dans le service\u001b[39;00m\n\u001b[1;32m      <a href='vscode-notebook-cell://user-warmvne404-36643-0.user.lab.sspcloud.fr/home/onyxia/work/hackathon-minarm-2024/tutorial-s3.ipynb#W6sdnNjb2RlLXJlbW90ZQ%3D%3D?line=1'>2</a>\u001b[0m PATH_IN \u001b[39m=\u001b[39m \u001b[39m'\u001b[39m\u001b[39mgvimont/diffusion/hackathon-minarm-2024/Acoustique/LivingRoom_preprocessed_hack.zip\u001b[39m\u001b[39m'\u001b[39m\n\u001b[0;32m----> <a href='vscode-notebook-cell://user-warmvne404-36643-0.user.lab.sspcloud.fr/home/onyxia/work/hackathon-minarm-2024/tutorial-s3.ipynb#W6sdnNjb2RlLXJlbW90ZQ%3D%3D?line=2'>3</a>\u001b[0m fs\u001b[39m.\u001b[39;49mdownload(PATH_IN, \u001b[39m'\u001b[39;49m\u001b[39mdata/LivingRoom_preprocessed_hack.zip\u001b[39;49m\u001b[39m'\u001b[39;49m)\n",
      "File \u001b[0;32m/opt/mamba/lib/python3.11/site-packages/fsspec/spec.py:1534\u001b[0m, in \u001b[0;36mAbstractFileSystem.download\u001b[0;34m(self, rpath, lpath, recursive, **kwargs)\u001b[0m\n\u001b[1;32m   1532\u001b[0m \u001b[39mdef\u001b[39;00m \u001b[39mdownload\u001b[39m(\u001b[39mself\u001b[39m, rpath, lpath, recursive\u001b[39m=\u001b[39m\u001b[39mFalse\u001b[39;00m, \u001b[39m*\u001b[39m\u001b[39m*\u001b[39mkwargs):\n\u001b[1;32m   1533\u001b[0m \u001b[39m    \u001b[39m\u001b[39m\"\"\"Alias of `AbstractFileSystem.get`.\"\"\"\u001b[39;00m\n\u001b[0;32m-> 1534\u001b[0m     \u001b[39mreturn\u001b[39;00m \u001b[39mself\u001b[39;49m\u001b[39m.\u001b[39;49mget(rpath, lpath, recursive\u001b[39m=\u001b[39;49mrecursive, \u001b[39m*\u001b[39;49m\u001b[39m*\u001b[39;49mkwargs)\n",
      "File \u001b[0;32m/opt/mamba/lib/python3.11/site-packages/fsspec/asyn.py:118\u001b[0m, in \u001b[0;36msync_wrapper.<locals>.wrapper\u001b[0;34m(*args, **kwargs)\u001b[0m\n\u001b[1;32m    115\u001b[0m \u001b[39m@functools\u001b[39m\u001b[39m.\u001b[39mwraps(func)\n\u001b[1;32m    116\u001b[0m \u001b[39mdef\u001b[39;00m \u001b[39mwrapper\u001b[39m(\u001b[39m*\u001b[39margs, \u001b[39m*\u001b[39m\u001b[39m*\u001b[39mkwargs):\n\u001b[1;32m    117\u001b[0m     \u001b[39mself\u001b[39m \u001b[39m=\u001b[39m obj \u001b[39mor\u001b[39;00m args[\u001b[39m0\u001b[39m]\n\u001b[0;32m--> 118\u001b[0m     \u001b[39mreturn\u001b[39;00m sync(\u001b[39mself\u001b[39;49m\u001b[39m.\u001b[39;49mloop, func, \u001b[39m*\u001b[39;49margs, \u001b[39m*\u001b[39;49m\u001b[39m*\u001b[39;49mkwargs)\n",
      "File \u001b[0;32m/opt/mamba/lib/python3.11/site-packages/fsspec/asyn.py:91\u001b[0m, in \u001b[0;36msync\u001b[0;34m(loop, func, timeout, *args, **kwargs)\u001b[0m\n\u001b[1;32m     88\u001b[0m asyncio\u001b[39m.\u001b[39mrun_coroutine_threadsafe(_runner(event, coro, result, timeout), loop)\n\u001b[1;32m     89\u001b[0m \u001b[39mwhile\u001b[39;00m \u001b[39mTrue\u001b[39;00m:\n\u001b[1;32m     90\u001b[0m     \u001b[39m# this loops allows thread to get interrupted\u001b[39;00m\n\u001b[0;32m---> 91\u001b[0m     \u001b[39mif\u001b[39;00m event\u001b[39m.\u001b[39;49mwait(\u001b[39m1\u001b[39;49m):\n\u001b[1;32m     92\u001b[0m         \u001b[39mbreak\u001b[39;00m\n\u001b[1;32m     93\u001b[0m     \u001b[39mif\u001b[39;00m timeout \u001b[39mis\u001b[39;00m \u001b[39mnot\u001b[39;00m \u001b[39mNone\u001b[39;00m:\n",
      "File \u001b[0;32m/opt/mamba/lib/python3.11/threading.py:629\u001b[0m, in \u001b[0;36mEvent.wait\u001b[0;34m(self, timeout)\u001b[0m\n\u001b[1;32m    627\u001b[0m signaled \u001b[39m=\u001b[39m \u001b[39mself\u001b[39m\u001b[39m.\u001b[39m_flag\n\u001b[1;32m    628\u001b[0m \u001b[39mif\u001b[39;00m \u001b[39mnot\u001b[39;00m signaled:\n\u001b[0;32m--> 629\u001b[0m     signaled \u001b[39m=\u001b[39m \u001b[39mself\u001b[39;49m\u001b[39m.\u001b[39;49m_cond\u001b[39m.\u001b[39;49mwait(timeout)\n\u001b[1;32m    630\u001b[0m \u001b[39mreturn\u001b[39;00m signaled\n",
      "File \u001b[0;32m/opt/mamba/lib/python3.11/threading.py:331\u001b[0m, in \u001b[0;36mCondition.wait\u001b[0;34m(self, timeout)\u001b[0m\n\u001b[1;32m    329\u001b[0m \u001b[39melse\u001b[39;00m:\n\u001b[1;32m    330\u001b[0m     \u001b[39mif\u001b[39;00m timeout \u001b[39m>\u001b[39m \u001b[39m0\u001b[39m:\n\u001b[0;32m--> 331\u001b[0m         gotit \u001b[39m=\u001b[39m waiter\u001b[39m.\u001b[39;49macquire(\u001b[39mTrue\u001b[39;49;00m, timeout)\n\u001b[1;32m    332\u001b[0m     \u001b[39melse\u001b[39;00m:\n\u001b[1;32m    333\u001b[0m         gotit \u001b[39m=\u001b[39m waiter\u001b[39m.\u001b[39macquire(\u001b[39mFalse\u001b[39;00m)\n",
      "\u001b[0;31mKeyboardInterrupt\u001b[0m: "
     ]
    }
   ],
   "source": [
    "# Télécharger les données dans le service\n",
    "PATH_IN = 'gvimont/diffusion/hackathon-minarm-2024/Acoustique/LivingRoom_preprocessed_hack.zip'\n",
    "fs.download(PATH_IN, 'data/LivingRoom_preprocessed_hack.zip')"
   ]
  },
  {
   "cell_type": "code",
   "execution_count": null,
   "metadata": {},
   "outputs": [],
   "source": [
    "# Décompresser les données\n",
    "with zipfile.ZipFile(\"data/LivingRoom_preprocessed_hack.zip\",\"r\") as zip_file:\n",
    "    zip_file.extractall(\"data/\")"
   ]
  },
  {
   "cell_type": "markdown",
   "metadata": {},
   "source": [
    "NB : les données peuvent être également téléchargées directement si besoin, pour être utilisées hors du SSP CLoud.\n",
    "Exemple pour le fichier ci-dessus (même format de lien pour les autres challenges) : \n",
    "\n",
    "http://minio.lab.sspcloud.fr/gvimont/diffusion/hackathon-minarm-2024/AIVSAI/HC3.zip"
   ]
  },
  {
   "cell_type": "markdown",
   "metadata": {},
   "source": [
    "### Exporter des données"
   ]
  },
  {
   "cell_type": "code",
   "execution_count": null,
   "metadata": {},
   "outputs": [
    {
     "name": "stdout",
     "output_type": "stream",
     "text": [
      "(100, 10, 667200)\n",
      "[[[ 9.07240337e-06  1.71257434e-05  1.22597794e-05 ...  8.86178623e-06\n",
      "    1.40686043e-05  1.06616626e-05]\n",
      "  [-8.23853679e-06 -8.23373648e-06 -8.74563466e-06 ...  2.87394778e-06\n",
      "   -8.90485808e-06 -3.52464713e-06]\n",
      "  [ 6.62780906e-07 -1.40201587e-06  1.83228190e-06 ... -1.06218545e-06\n",
      "    8.53497477e-06  2.28155182e-06]\n",
      "  [ 8.11119719e-07 -2.47451499e-06  5.82140547e-06 ...  7.73804004e-06\n",
      "    2.29692650e-05  1.10566034e-05]]\n",
      "\n",
      " [[ 1.64466037e-05  1.53698293e-05  1.91599720e-05 ...  1.76548729e-05\n",
      "    1.70955263e-05  1.41169767e-05]\n",
      "  [ 1.05826217e-07  9.13145777e-06  1.76140716e-07 ...  1.21369967e-05\n",
      "    1.55958387e-05  1.23088676e-05]\n",
      "  [ 7.06836090e-06  3.26818258e-06  7.15508941e-06 ...  4.64980394e-06\n",
      "    8.96262554e-06  6.55734584e-06]\n",
      "  [-3.18089551e-05 -8.93297238e-06 -2.51026504e-05 ... -7.02741545e-07\n",
      "    1.34268867e-05  3.24307348e-06]]\n",
      "\n",
      " [[ 4.71092753e-05  4.42863784e-05  4.81883108e-05 ...  5.11715079e-05\n",
      "    4.54165129e-05  4.68136932e-05]\n",
      "  [-2.25045878e-05 -1.77392903e-05 -2.29746092e-05 ... -1.16080564e-05\n",
      "   -1.33936874e-05 -1.49674725e-05]\n",
      "  [-7.06177207e-06 -3.24991493e-06 -3.82365158e-07 ... -2.51065717e-06\n",
      "   -8.64210142e-06 -1.25162501e-06]\n",
      "  [ 7.42783523e-05 -1.04295970e-04 -1.18935568e-04 ... -3.82503276e-05\n",
      "   -3.20346385e-06  2.36954511e-05]]\n",
      "\n",
      " ...\n",
      "\n",
      " [[-9.19931699e-06 -1.12566586e-05 -6.25403072e-06 ... -6.18328158e-06\n",
      "   -7.30752890e-06 -5.60423996e-06]\n",
      "  [-8.76535523e-06 -4.28911699e-06 -5.81078848e-06 ... -3.45416925e-06\n",
      "   -7.85465454e-06 -3.31127535e-06]\n",
      "  [-3.47633295e-06  1.70215810e-06 -5.54926203e-07 ...  1.27369481e-06\n",
      "   -1.74354363e-06  1.86796979e-06]\n",
      "  [ 2.13691851e-06  1.01367950e-05  1.14066588e-05 ... -1.72935925e-05\n",
      "   -1.24792969e-05 -1.97716799e-05]]\n",
      "\n",
      " [[-3.31293450e-06  8.98478265e-06  3.39539952e-06 ... -6.63729168e-07\n",
      "   -1.82116059e-06 -4.22379713e-07]\n",
      "  [ 2.46191144e-06  2.05640094e-06  3.69124427e-06 ...  3.03227239e-06\n",
      "    5.80062397e-06  2.60468755e-06]\n",
      "  [ 2.60216098e-06  3.06390689e-06 -6.06109268e-07 ...  8.91660693e-06\n",
      "   -2.67310270e-06  7.77940932e-06]\n",
      "  [-1.12466259e-05 -7.33926136e-05 -1.92652078e-05 ...  1.02715085e-05\n",
      "   -1.49204689e-05 -1.85605404e-05]]\n",
      "\n",
      " [[-2.18067839e-06 -8.45159684e-06  6.28021041e-07 ... -7.29226031e-06\n",
      "   -9.38796529e-06 -1.06312000e-05]\n",
      "  [ 5.12593260e-06  6.90264642e-06  6.00208568e-06 ...  2.50897233e-06\n",
      "   -1.04963137e-05 -1.37404015e-06]\n",
      "  [ 7.75929493e-06  1.52079519e-06  7.64413744e-06 ...  2.97681993e-07\n",
      "    9.32359671e-06 -5.47995626e-07]\n",
      "  [-4.47002685e-06  5.33304410e-06  8.83690245e-06 ...  1.00034840e-05\n",
      "    4.90839875e-06  1.29770433e-05]]]\n",
      "[[[ 1.32263867e-05  4.04477396e-06  1.72964337e-05 ...  1.42459985e-05\n",
      "    7.06920127e-06  1.52228458e-05]\n",
      "  [ 1.66781626e-06  4.13932912e-06  4.92448726e-06 ...  1.69338909e-05\n",
      "    1.40092038e-06  1.19383767e-05]\n",
      "  [ 1.15825042e-05  4.49341405e-06  1.40825741e-05 ...  1.12802718e-05\n",
      "    1.38609530e-05  6.46868511e-06]\n",
      "  [-2.10553353e-05 -2.40086247e-05 -1.06697380e-05 ... -2.20970142e-05\n",
      "   -2.00329578e-05 -2.09568789e-05]]\n",
      "\n",
      " [[-7.21401693e-06  1.12978867e-07 -4.36823848e-06 ... -1.81246889e-06\n",
      "   -8.53981510e-06 -1.84635439e-06]\n",
      "  [ 1.36644203e-05  2.30385322e-05  1.24044136e-05 ...  9.66903553e-06\n",
      "    1.00616371e-05  1.03869361e-05]\n",
      "  [ 2.78378029e-05  1.38622945e-05  2.71665067e-05 ...  1.33699305e-05\n",
      "    1.06378029e-05  1.05457875e-05]\n",
      "  [ 1.15678056e-04  1.64297759e-04  5.92336910e-05 ...  5.16751425e-05\n",
      "    3.32121781e-05  1.38982023e-05]]\n",
      "\n",
      " [[-1.59124454e-06 -9.91511479e-06  1.74267120e-06 ...  3.94251998e-07\n",
      "    2.68778354e-06  2.13934914e-06]\n",
      "  [ 7.30616648e-06  4.54986503e-06  7.84721578e-06 ...  1.06087164e-05\n",
      "    1.44588432e-06  9.16507815e-06]\n",
      "  [ 3.13707551e-06  4.37415792e-06  7.82795814e-06 ...  7.21973765e-06\n",
      "    1.20149498e-05  5.69734175e-06]\n",
      "  [ 1.00595935e-05 -6.92771255e-06  1.17938425e-05 ... -1.05910322e-05\n",
      "    2.11578481e-06 -9.65056279e-06]]\n",
      "\n",
      " ...\n",
      "\n",
      " [[-6.49007234e-06 -1.20259056e-05 -7.84140866e-06 ... -1.18712451e-05\n",
      "   -4.17982164e-06 -1.42443532e-05]\n",
      "  [ 1.02307922e-05  1.11256786e-05  1.15741532e-05 ...  1.02063514e-05\n",
      "    4.62145522e-07  9.20632647e-06]\n",
      "  [ 2.82056408e-06  4.39899986e-06  5.47178161e-06 ... -5.49734023e-06\n",
      "    5.39134453e-06 -7.68493919e-06]\n",
      "  [-1.09625707e-05 -1.49788875e-05 -5.78490426e-06 ... -1.18736443e-05\n",
      "   -1.38960777e-05 -5.34930450e-06]]\n",
      "\n",
      " [[-7.78719696e-05 -7.28835148e-05 -7.53981658e-05 ... -7.64382203e-05\n",
      "   -7.63384596e-05 -7.56490990e-05]\n",
      "  [-1.66587870e-06  6.98116719e-06 -6.07548202e-07 ... -3.65104711e-07\n",
      "   -3.64715243e-06 -6.02160208e-06]\n",
      "  [ 7.92054470e-06  4.23502024e-06  1.09544144e-05 ...  7.53775021e-06\n",
      "    5.11439339e-06  1.01513324e-05]\n",
      "  [ 4.49684740e-05  4.10416869e-05  4.38610514e-05 ...  2.11692368e-05\n",
      "    1.37110801e-05  2.55454015e-05]]\n",
      "\n",
      " [[ 7.66158155e-06  1.21757357e-05  9.88330066e-06 ...  8.46857438e-06\n",
      "    1.20377481e-05  1.00683746e-05]\n",
      "  [-2.58315595e-06  2.60652246e-06 -3.87392993e-06 ... -8.74932084e-06\n",
      "   -1.92495445e-05 -6.75919409e-06]\n",
      "  [ 1.30914268e-05  1.70151611e-06  1.17290929e-05 ...  4.16891271e-06\n",
      "    5.02312048e-07  3.46589354e-06]\n",
      "  [-5.54151302e-06 -2.73848468e-06 -1.76893282e-05 ... -2.06357549e-06\n",
      "   -1.13691669e-06 -2.21694208e-07]]]\n"
     ]
    }
   ],
   "source": [
    "import numpy as np\n",
    "import pandas as pd\n",
    "\n",
    "# Load the Empty Room .npy file\n",
    "data_array_empty = np.load('data/LivingRoom_preprocessed_hack/Empty/deconvolved.npy')\n",
    "print(data_array_empty.shape)\n",
    "\n",
    "# Load the Human1 Room .npy file\n",
    "data_array_H1_centroid = np.load('data/LivingRoom_preprocessed_hack/Human1/centroid.npy')\n",
    "data_array_H1_deconvoled = np.load('data/LivingRoom_preprocessed_hack/Human1/deconvoled_trim.npy')\n",
    "data_array_H1_skeletons = np.load('data/LivingRoom_preprocessed_hack/Human1/skeletons.npy')\n",
    "print(data_array_H1_deconvoled)\n",
    "\n",
    "# Load the Human2 Room .npy file\n",
    "data_array_H2_centroid = np.load('data/LivingRoom_preprocessed_hack/Human2/centroid.npy')\n",
    "data_array_H2_deconvoled = np.load('data/LivingRoom_preprocessed_hack/Human2/deconvoled_trim.npy')\n",
    "data_array_H2_skeletons = np.load('data/LivingRoom_preprocessed_hack/Human2/skeletons.npy')\n",
    "print(data_array_H2_deconvoled)\n"
   ]
  },
  {
   "cell_type": "code",
   "execution_count": 23,
   "metadata": {},
   "outputs": [
    {
     "name": "stdout",
     "output_type": "stream",
     "text": [
      "(1000, 3, 32, 3)\n",
      "(104, 3, 32, 3)\n"
     ]
    }
   ],
   "source": [
    "print(data_array_H1_skeletons.shape)\n",
    "print(data_array_H2_skeletons.shape)"
   ]
  },
  {
   "cell_type": "markdown",
   "metadata": {},
   "source": [
    "### Travail sur la salle H1"
   ]
  },
  {
   "cell_type": "markdown",
   "metadata": {},
   "source": [
    "**Affichage du centroid**"
   ]
  },
  {
   "cell_type": "code",
   "execution_count": 22,
   "metadata": {},
   "outputs": [
    {
     "name": "stdout",
     "output_type": "stream",
     "text": [
      "[[-3231.3293467  -1127.87771457]\n",
      " [-3198.54107875  -744.5100656 ]\n",
      " [-3192.9776274   -248.26678827]\n",
      " ...\n",
      " [-1717.89923578 -3166.59648491]\n",
      " [-1808.60337549 -2779.13038427]\n",
      " [   44.43741322   106.48353609]]\n"
     ]
    }
   ],
   "source": [
    "print(data_array_H1_centroid)"
   ]
  },
  {
   "cell_type": "code",
   "execution_count": 21,
   "metadata": {},
   "outputs": [
    {
     "data": {
      "image/png": "[encoded data removed]",
      "text/plain": [
       "<Figure size 800x600 with 1 Axes>"
      ]
     },
     "metadata": {},
     "output_type": "display_data"
    }
   ],
   "source": [
    "x = data_array_H1_centroid[:, 0]\n",
    "y = data_array_H1_centroid[:, 1]\n",
    "\n",
    "# Tracer les points\n",
    "plt.figure(figsize=(8, 6))\n",
    "plt.scatter(x, y, s=10, c='blue', marker='o', alpha=0.5)  # s: taille des points, c: couleur, marker: type de marqueur, alpha: transparence\n",
    "plt.title('Tracé des points')\n",
    "plt.xlabel('X')\n",
    "plt.ylabel('Y')\n",
    "plt.grid(True)\n",
    "plt.show()"
   ]
  },
  {
   "cell_type": "markdown",
   "metadata": {},
   "source": [
    "**Affichage et process du deconvoled**"
   ]
  },
  {
   "cell_type": "code",
   "execution_count": 20,
   "metadata": {},
   "outputs": [
    {
     "name": "stdout",
     "output_type": "stream",
     "text": [
      "(1000, 4, 667200)\n",
      "[[[ 9.07240337e-06  1.71257434e-05  1.22597794e-05 ...  8.86178623e-06\n",
      "    1.40686043e-05  1.06616626e-05]\n",
      "  [-8.23853679e-06 -8.23373648e-06 -8.74563466e-06 ...  2.87394778e-06\n",
      "   -8.90485808e-06 -3.52464713e-06]\n",
      "  [ 6.62780906e-07 -1.40201587e-06  1.83228190e-06 ... -1.06218545e-06\n",
      "    8.53497477e-06  2.28155182e-06]\n",
      "  [ 8.11119719e-07 -2.47451499e-06  5.82140547e-06 ...  7.73804004e-06\n",
      "    2.29692650e-05  1.10566034e-05]]\n",
      "\n",
      " [[ 1.64466037e-05  1.53698293e-05  1.91599720e-05 ...  1.76548729e-05\n",
      "    1.70955263e-05  1.41169767e-05]\n",
      "  [ 1.05826217e-07  9.13145777e-06  1.76140716e-07 ...  1.21369967e-05\n",
      "    1.55958387e-05  1.23088676e-05]\n",
      "  [ 7.06836090e-06  3.26818258e-06  7.15508941e-06 ...  4.64980394e-06\n",
      "    8.96262554e-06  6.55734584e-06]\n",
      "  [-3.18089551e-05 -8.93297238e-06 -2.51026504e-05 ... -7.02741545e-07\n",
      "    1.34268867e-05  3.24307348e-06]]\n",
      "\n",
      " [[ 4.71092753e-05  4.42863784e-05  4.81883108e-05 ...  5.11715079e-05\n",
      "    4.54165129e-05  4.68136932e-05]\n",
      "  [-2.25045878e-05 -1.77392903e-05 -2.29746092e-05 ... -1.16080564e-05\n",
      "   -1.33936874e-05 -1.49674725e-05]\n",
      "  [-7.06177207e-06 -3.24991493e-06 -3.82365158e-07 ... -2.51065717e-06\n",
      "   -8.64210142e-06 -1.25162501e-06]\n",
      "  [ 7.42783523e-05 -1.04295970e-04 -1.18935568e-04 ... -3.82503276e-05\n",
      "   -3.20346385e-06  2.36954511e-05]]\n",
      "\n",
      " ...\n",
      "\n",
      " [[-9.19931699e-06 -1.12566586e-05 -6.25403072e-06 ... -6.18328158e-06\n",
      "   -7.30752890e-06 -5.60423996e-06]\n",
      "  [-8.76535523e-06 -4.28911699e-06 -5.81078848e-06 ... -3.45416925e-06\n",
      "   -7.85465454e-06 -3.31127535e-06]\n",
      "  [-3.47633295e-06  1.70215810e-06 -5.54926203e-07 ...  1.27369481e-06\n",
      "   -1.74354363e-06  1.86796979e-06]\n",
      "  [ 2.13691851e-06  1.01367950e-05  1.14066588e-05 ... -1.72935925e-05\n",
      "   -1.24792969e-05 -1.97716799e-05]]\n",
      "\n",
      " [[-3.31293450e-06  8.98478265e-06  3.39539952e-06 ... -6.63729168e-07\n",
      "   -1.82116059e-06 -4.22379713e-07]\n",
      "  [ 2.46191144e-06  2.05640094e-06  3.69124427e-06 ...  3.03227239e-06\n",
      "    5.80062397e-06  2.60468755e-06]\n",
      "  [ 2.60216098e-06  3.06390689e-06 -6.06109268e-07 ...  8.91660693e-06\n",
      "   -2.67310270e-06  7.77940932e-06]\n",
      "  [-1.12466259e-05 -7.33926136e-05 -1.92652078e-05 ...  1.02715085e-05\n",
      "   -1.49204689e-05 -1.85605404e-05]]\n",
      "\n",
      " [[-2.18067839e-06 -8.45159684e-06  6.28021041e-07 ... -7.29226031e-06\n",
      "   -9.38796529e-06 -1.06312000e-05]\n",
      "  [ 5.12593260e-06  6.90264642e-06  6.00208568e-06 ...  2.50897233e-06\n",
      "   -1.04963137e-05 -1.37404015e-06]\n",
      "  [ 7.75929493e-06  1.52079519e-06  7.64413744e-06 ...  2.97681993e-07\n",
      "    9.32359671e-06 -5.47995626e-07]\n",
      "  [-4.47002685e-06  5.33304410e-06  8.83690245e-06 ...  1.00034840e-05\n",
      "    4.90839875e-06  1.29770433e-05]]]\n"
     ]
    }
   ],
   "source": [
    "print(data_array_H1_deconvoled.shape)\n",
    "print(data_array_H1_deconvoled)"
   ]
  },
  {
   "cell_type": "code",
   "execution_count": 19,
   "metadata": {},
   "outputs": [
    {
     "name": "stdout",
     "output_type": "stream",
     "text": [
      "Collecting tensorflow\n",
      "  Downloading tensorflow-2.16.1-cp311-cp311-manylinux_2_17_x86_64.manylinux2014_x86_64.whl.metadata (4.3 kB)\n",
      "Collecting absl-py>=1.0.0 (from tensorflow)\n",
      "  Downloading absl_py-2.1.0-py3-none-any.whl.metadata (2.3 kB)\n",
      "Collecting astunparse>=1.6.0 (from tensorflow)\n",
      "  Downloading astunparse-1.6.3-py2.py3-none-any.whl.metadata (4.4 kB)\n",
      "Collecting flatbuffers>=23.5.26 (from tensorflow)\n",
      "  Downloading flatbuffers-24.3.25-py2.py3-none-any.whl.metadata (850 bytes)\n",
      "Collecting gast!=0.5.0,!=0.5.1,!=0.5.2,>=0.2.1 (from tensorflow)\n",
      "  Downloading gast-0.5.4-py3-none-any.whl.metadata (1.3 kB)\n",
      "Collecting google-pasta>=0.1.1 (from tensorflow)\n",
      "  Downloading google_pasta-0.2.0-py3-none-any.whl.metadata (814 bytes)\n",
      "Collecting h5py>=3.10.0 (from tensorflow)\n",
      "  Downloading h5py-3.11.0-cp311-cp311-manylinux_2_17_x86_64.manylinux2014_x86_64.whl.metadata (2.5 kB)\n",
      "Collecting libclang>=13.0.0 (from tensorflow)\n",
      "  Downloading libclang-18.1.1-py2.py3-none-manylinux2010_x86_64.whl.metadata (5.2 kB)\n",
      "Collecting ml-dtypes~=0.3.1 (from tensorflow)\n",
      "  Downloading ml_dtypes-0.3.2-cp311-cp311-manylinux_2_17_x86_64.manylinux2014_x86_64.whl.metadata (20 kB)\n",
      "Collecting opt-einsum>=2.3.2 (from tensorflow)\n",
      "  Downloading opt_einsum-3.3.0-py3-none-any.whl.metadata (6.5 kB)\n",
      "Requirement already satisfied: packaging in /opt/mamba/lib/python3.11/site-packages (from tensorflow) (23.2)\n",
      "Requirement already satisfied: protobuf!=4.21.0,!=4.21.1,!=4.21.2,!=4.21.3,!=4.21.4,!=4.21.5,<5.0.0dev,>=3.20.3 in /opt/mamba/lib/python3.11/site-packages (from tensorflow) (4.25.3)\n",
      "Requirement already satisfied: requests<3,>=2.21.0 in /opt/mamba/lib/python3.11/site-packages (from tensorflow) (2.31.0)\n",
      "Requirement already satisfied: setuptools in /opt/mamba/lib/python3.11/site-packages (from tensorflow) (69.2.0)\n",
      "Requirement already satisfied: six>=1.12.0 in /opt/mamba/lib/python3.11/site-packages (from tensorflow) (1.16.0)\n",
      "Collecting termcolor>=1.1.0 (from tensorflow)\n",
      "  Downloading termcolor-2.4.0-py3-none-any.whl.metadata (6.1 kB)\n",
      "Requirement already satisfied: typing-extensions>=3.6.6 in /opt/mamba/lib/python3.11/site-packages (from tensorflow) (4.11.0)\n",
      "Requirement already satisfied: wrapt>=1.11.0 in /opt/mamba/lib/python3.11/site-packages (from tensorflow) (1.16.0)\n",
      "Collecting grpcio<2.0,>=1.24.3 (from tensorflow)\n",
      "  Downloading grpcio-1.62.2-cp311-cp311-manylinux_2_17_x86_64.manylinux2014_x86_64.whl.metadata (4.0 kB)\n",
      "Collecting tensorboard<2.17,>=2.16 (from tensorflow)\n",
      "  Downloading tensorboard-2.16.2-py3-none-any.whl.metadata (1.6 kB)\n",
      "Collecting keras>=3.0.0 (from tensorflow)\n",
      "  Downloading keras-3.3.2-py3-none-any.whl.metadata (5.7 kB)\n",
      "Collecting tensorflow-io-gcs-filesystem>=0.23.1 (from tensorflow)\n",
      "  Downloading tensorflow_io_gcs_filesystem-0.36.0-cp311-cp311-manylinux_2_17_x86_64.manylinux2014_x86_64.whl.metadata (14 kB)\n",
      "Requirement already satisfied: numpy<2.0.0,>=1.23.5 in /opt/mamba/lib/python3.11/site-packages (from tensorflow) (1.26.4)\n",
      "Requirement already satisfied: wheel<1.0,>=0.23.0 in /opt/mamba/lib/python3.11/site-packages (from astunparse>=1.6.0->tensorflow) (0.43.0)\n",
      "Collecting rich (from keras>=3.0.0->tensorflow)\n",
      "  Downloading rich-13.7.1-py3-none-any.whl.metadata (18 kB)\n",
      "Collecting namex (from keras>=3.0.0->tensorflow)\n",
      "  Downloading namex-0.0.8-py3-none-any.whl.metadata (246 bytes)\n",
      "Collecting optree (from keras>=3.0.0->tensorflow)\n",
      "  Downloading optree-0.11.0-cp311-cp311-manylinux_2_17_x86_64.manylinux2014_x86_64.whl.metadata (45 kB)\n",
      "\u001b[2K     \u001b[90m━━━━━━━━━━━━━━━━━━━━━━━━━━━━━━━━━━━━━━━━\u001b[0m \u001b[32m45.4/45.4 kB\u001b[0m \u001b[31m12.5 MB/s\u001b[0m eta \u001b[36m0:00:00\u001b[0m\n",
      "\u001b[?25hRequirement already satisfied: charset-normalizer<4,>=2 in /opt/mamba/lib/python3.11/site-packages (from requests<3,>=2.21.0->tensorflow) (3.3.2)\n",
      "Requirement already satisfied: idna<4,>=2.5 in /opt/mamba/lib/python3.11/site-packages (from requests<3,>=2.21.0->tensorflow) (3.6)\n",
      "Requirement already satisfied: urllib3<3,>=1.21.1 in /opt/mamba/lib/python3.11/site-packages (from requests<3,>=2.21.0->tensorflow) (1.26.18)\n",
      "Requirement already satisfied: certifi>=2017.4.17 in /opt/mamba/lib/python3.11/site-packages (from requests<3,>=2.21.0->tensorflow) (2024.2.2)\n",
      "Requirement already satisfied: markdown>=2.6.8 in /opt/mamba/lib/python3.11/site-packages (from tensorboard<2.17,>=2.16->tensorflow) (3.6)\n",
      "Collecting tensorboard-data-server<0.8.0,>=0.7.0 (from tensorboard<2.17,>=2.16->tensorflow)\n",
      "  Downloading tensorboard_data_server-0.7.2-py3-none-manylinux_2_31_x86_64.whl.metadata (1.1 kB)\n",
      "Requirement already satisfied: werkzeug>=1.0.1 in /opt/mamba/lib/python3.11/site-packages (from tensorboard<2.17,>=2.16->tensorflow) (3.0.2)\n",
      "Requirement already satisfied: MarkupSafe>=2.1.1 in /opt/mamba/lib/python3.11/site-packages (from werkzeug>=1.0.1->tensorboard<2.17,>=2.16->tensorflow) (2.1.5)\n",
      "Collecting markdown-it-py>=2.2.0 (from rich->keras>=3.0.0->tensorflow)\n",
      "  Downloading markdown_it_py-3.0.0-py3-none-any.whl.metadata (6.9 kB)\n",
      "Requirement already satisfied: pygments<3.0.0,>=2.13.0 in /opt/mamba/lib/python3.11/site-packages (from rich->keras>=3.0.0->tensorflow) (2.17.2)\n",
      "Collecting mdurl~=0.1 (from markdown-it-py>=2.2.0->rich->keras>=3.0.0->tensorflow)\n",
      "  Downloading mdurl-0.1.2-py3-none-any.whl.metadata (1.6 kB)\n",
      "Downloading tensorflow-2.16.1-cp311-cp311-manylinux_2_17_x86_64.manylinux2014_x86_64.whl (589.8 MB)\n",
      "\u001b[2K   \u001b[90m━━━━━━━━━━━━━━━━━━━━━━━━━━━━━━━━━━━━━━━━\u001b[0m \u001b[32m589.8/589.8 MB\u001b[0m \u001b[31m6.9 MB/s\u001b[0m eta \u001b[36m0:00:00\u001b[0m:00:01\u001b[0m00:01\u001b[0m\n",
      "\u001b[?25hDownloading absl_py-2.1.0-py3-none-any.whl (133 kB)\n",
      "\u001b[2K   \u001b[90m━━━━━━━━━━━━━━━━━━━━━━━━━━━━━━━━━━━━━━━━\u001b[0m \u001b[32m133.7/133.7 kB\u001b[0m \u001b[31m17.7 MB/s\u001b[0m eta \u001b[36m0:00:00\u001b[0m\n",
      "\u001b[?25hDownloading astunparse-1.6.3-py2.py3-none-any.whl (12 kB)\n",
      "Downloading flatbuffers-24.3.25-py2.py3-none-any.whl (26 kB)\n",
      "Downloading gast-0.5.4-py3-none-any.whl (19 kB)\n",
      "Downloading google_pasta-0.2.0-py3-none-any.whl (57 kB)\n",
      "\u001b[2K   \u001b[90m━━━━━━━━━━━━━━━━━━━━━━━━━━━━━━━━━━━━━━━━\u001b[0m \u001b[32m57.5/57.5 kB\u001b[0m \u001b[31m12.2 MB/s\u001b[0m eta \u001b[36m0:00:00\u001b[0m\n",
      "\u001b[?25hDownloading grpcio-1.62.2-cp311-cp311-manylinux_2_17_x86_64.manylinux2014_x86_64.whl (5.5 MB)\n",
      "\u001b[2K   \u001b[90m━━━━━━━━━━━━━━━━━━━━━━━━━━━━━━━━━━━━━━━━\u001b[0m \u001b[32m5.5/5.5 MB\u001b[0m \u001b[31m70.6 MB/s\u001b[0m eta \u001b[36m0:00:00\u001b[0m00:01\u001b[0m:00:01\u001b[0m\n",
      "\u001b[?25hDownloading h5py-3.11.0-cp311-cp311-manylinux_2_17_x86_64.manylinux2014_x86_64.whl (5.4 MB)\n",
      "\u001b[2K   \u001b[90m━━━━━━━━━━━━━━━━━━━━━━━━━━━━━━━━━━━━━━━━\u001b[0m \u001b[32m5.4/5.4 MB\u001b[0m \u001b[31m37.9 MB/s\u001b[0m eta \u001b[36m0:00:00\u001b[0m00:01\u001b[0m:00:01\u001b[0m\n",
      "\u001b[?25hDownloading keras-3.3.2-py3-none-any.whl (1.1 MB)\n",
      "\u001b[2K   \u001b[90m━━━━━━━━━━━━━━━━━━━━━━━━━━━━━━━━━━━━━━━━\u001b[0m \u001b[32m1.1/1.1 MB\u001b[0m \u001b[31m49.7 MB/s\u001b[0m eta \u001b[36m0:00:00\u001b[0m\n",
      "\u001b[?25hDownloading libclang-18.1.1-py2.py3-none-manylinux2010_x86_64.whl (24.5 MB)\n",
      "\u001b[2K   \u001b[90m━━━━━━━━━━━━━━━━━━━━━━━━━━━━━━━━━━━━━━━━\u001b[0m \u001b[32m24.5/24.5 MB\u001b[0m \u001b[31m51.7 MB/s\u001b[0m eta \u001b[36m0:00:00\u001b[0m00:01\u001b[0m00:01\u001b[0m\n",
      "\u001b[?25hDownloading ml_dtypes-0.3.2-cp311-cp311-manylinux_2_17_x86_64.manylinux2014_x86_64.whl (2.2 MB)\n",
      "\u001b[2K   \u001b[90m━━━━━━━━━━━━━━━━━━━━━━━━━━━━━━━━━━━━━━━━\u001b[0m \u001b[32m2.2/2.2 MB\u001b[0m \u001b[31m53.9 MB/s\u001b[0m eta \u001b[36m0:00:00\u001b[0m00:01\u001b[0m\n",
      "\u001b[?25hDownloading opt_einsum-3.3.0-py3-none-any.whl (65 kB)\n",
      "\u001b[2K   \u001b[90m━━━━━━━━━━━━━━━━━━━━━━━━━━━━━━━━━━━━━━━━\u001b[0m \u001b[32m65.5/65.5 kB\u001b[0m \u001b[31m8.7 MB/s\u001b[0m eta \u001b[36m0:00:00\u001b[0m\n",
      "\u001b[?25hDownloading tensorboard-2.16.2-py3-none-any.whl (5.5 MB)\n",
      "\u001b[2K   \u001b[90m━━━━━━━━━━━━━━━━━━━━━━━━━━━━━━━━━━━━━━━━\u001b[0m \u001b[32m5.5/5.5 MB\u001b[0m \u001b[31m84.4 MB/s\u001b[0m eta \u001b[36m0:00:00\u001b[0mta \u001b[36m0:00:01\u001b[0m\n",
      "\u001b[?25hDownloading tensorflow_io_gcs_filesystem-0.36.0-cp311-cp311-manylinux_2_17_x86_64.manylinux2014_x86_64.whl (5.1 MB)\n",
      "\u001b[2K   \u001b[90m━━━━━━━━━━━━━━━━━━━━━━━━━━━━━━━━━━━━━━━━\u001b[0m \u001b[32m5.1/5.1 MB\u001b[0m \u001b[31m85.3 MB/s\u001b[0m eta \u001b[36m0:00:00\u001b[0mta \u001b[36m0:00:01\u001b[0m\n",
      "\u001b[?25hDownloading termcolor-2.4.0-py3-none-any.whl (7.7 kB)\n",
      "Downloading tensorboard_data_server-0.7.2-py3-none-manylinux_2_31_x86_64.whl (6.6 MB)\n",
      "\u001b[2K   \u001b[90m━━━━━━━━━━━━━━━━━━━━━━━━━━━━━━━━━━━━━━━━\u001b[0m \u001b[32m6.6/6.6 MB\u001b[0m \u001b[31m82.4 MB/s\u001b[0m eta \u001b[36m0:00:00\u001b[0m:00:01\u001b[0m00:01\u001b[0m\n",
      "\u001b[?25hDownloading namex-0.0.8-py3-none-any.whl (5.8 kB)\n",
      "Downloading optree-0.11.0-cp311-cp311-manylinux_2_17_x86_64.manylinux2014_x86_64.whl (312 kB)\n",
      "\u001b[2K   \u001b[90m━━━━━━━━━━━━━━━━━━━━━━━━━━━━━━━━━━━━━━━━\u001b[0m \u001b[32m312.0/312.0 kB\u001b[0m \u001b[31m48.2 MB/s\u001b[0m eta \u001b[36m0:00:00\u001b[0m\n",
      "\u001b[?25hDownloading rich-13.7.1-py3-none-any.whl (240 kB)\n",
      "\u001b[2K   \u001b[90m━━━━━━━━━━━━━━━━━━━━━━━━━━━━━━━━━━━━━━━━\u001b[0m \u001b[32m240.7/240.7 kB\u001b[0m \u001b[31m44.6 MB/s\u001b[0m eta \u001b[36m0:00:00\u001b[0m\n",
      "\u001b[?25hDownloading markdown_it_py-3.0.0-py3-none-any.whl (87 kB)\n",
      "\u001b[2K   \u001b[90m━━━━━━━━━━━━━━━━━━━━━━━━━━━━━━━━━━━━━━━━\u001b[0m \u001b[32m87.5/87.5 kB\u001b[0m \u001b[31m28.2 MB/s\u001b[0m eta \u001b[36m0:00:00\u001b[0m\n",
      "\u001b[?25hDownloading mdurl-0.1.2-py3-none-any.whl (10.0 kB)\n",
      "Installing collected packages: namex, libclang, flatbuffers, termcolor, tensorflow-io-gcs-filesystem, tensorboard-data-server, optree, opt-einsum, ml-dtypes, mdurl, h5py, grpcio, google-pasta, gast, astunparse, absl-py, tensorboard, markdown-it-py, rich, keras, tensorflow\n",
      "Successfully installed absl-py-2.1.0 astunparse-1.6.3 flatbuffers-24.3.25 gast-0.5.4 google-pasta-0.2.0 grpcio-1.62.2 h5py-3.11.0 keras-3.3.2 libclang-18.1.1 markdown-it-py-3.0.0 mdurl-0.1.2 ml-dtypes-0.3.2 namex-0.0.8 opt-einsum-3.3.0 optree-0.11.0 rich-13.7.1 tensorboard-2.16.2 tensorboard-data-server-0.7.2 tensorflow-2.16.1 tensorflow-io-gcs-filesystem-0.36.0 termcolor-2.4.0\n",
      "Note: you may need to restart the kernel to use updated packages.\n"
     ]
    }
   ],
   "source": [
    "pip install tensorflow"
   ]
  },
  {
   "cell_type": "code",
   "execution_count": 24,
   "metadata": {},
   "outputs": [
    {
     "name": "stderr",
     "output_type": "stream",
     "text": [
      "2024-04-23 18:08:58.841130: I external/local_tsl/tsl/cuda/cudart_stub.cc:32] Could not find cuda drivers on your machine, GPU will not be used.\n",
      "2024-04-23 18:08:58.846847: I external/local_tsl/tsl/cuda/cudart_stub.cc:32] Could not find cuda drivers on your machine, GPU will not be used.\n",
      "2024-04-23 18:08:58.902665: I tensorflow/core/platform/cpu_feature_guard.cc:210] This TensorFlow binary is optimized to use available CPU instructions in performance-critical operations.\n",
      "To enable the following instructions: AVX2 AVX512F FMA, in other operations, rebuild TensorFlow with the appropriate compiler flags.\n",
      "2024-04-23 18:08:59.821391: W tensorflow/compiler/tf2tensorrt/utils/py_utils.cc:38] TF-TRT Warning: Could not find TensorRT\n"
     ]
    }
   ],
   "source": [
    "import numpy as np\n",
    "import tensorflow as tf\n",
    "from tensorflow.keras import layers, models\n",
    "from sklearn.preprocessing import StandardScaler"
   ]
  },
  {
   "cell_type": "code",
   "execution_count": 25,
   "metadata": {},
   "outputs": [],
   "source": [
    "# Calcul de la RMS pour chaque canal (microphone)\n",
    "rms_data = np.sqrt(np.mean(np.square(data_array_H1_deconvoled), axis=2))\n",
    "\n",
    "# Normaliser les données RMS\n",
    "scaler = StandardScaler()\n",
    "rms_data_normalized = scaler.fit_transform(rms_data.reshape(-1, 4)).reshape(rms_data.shape)"
   ]
  },
  {
   "cell_type": "code",
   "execution_count": 38,
   "metadata": {},
   "outputs": [
    {
     "name": "stdout",
     "output_type": "stream",
     "text": [
      "(1000, 4)\n",
      "[[  0.807686     0.89319843   0.3703625    0.55446833]\n",
      " [  0.6148092    0.5601817    0.32530993   0.49623522]\n",
      " [  0.6670591    0.46835804   0.26275572   0.5050229 ]\n",
      " ...\n",
      " [  0.48971906   0.02091012  -0.3304132   -0.05839473]\n",
      " [  0.38563752  -0.5528933   -0.33424938  -0.18044513]\n",
      " [  0.38350895   0.30132347 -10.254325    -4.594716  ]]\n"
     ]
    }
   ],
   "source": [
    "print(rms_data_normalized.shape)\n",
    "print(rms_data_normalized)"
   ]
  },
  {
   "cell_type": "code",
   "execution_count": 27,
   "metadata": {},
   "outputs": [],
   "source": [
    "\n",
    "# Vérifier que les données ont la même longueur\n",
    "assert rms_data_normalized.shape[0] == data_array_H1_centroid.shape[0]\n",
    "\n",
    "# Diviser les données en ensembles d'entraînement et de test\n",
    "split_ratio = 0.8\n",
    "split_index = int(split_ratio * len(rms_data_normalized))\n",
    "\n",
    "train_audio, test_audio = rms_data_normalized[:split_index], rms_data_normalized[split_index:]\n",
    "train_centroid, test_centroid = data_array_H1_centroid[:split_index], data_array_H1_centroid[split_index:]\n"
   ]
  },
  {
   "cell_type": "code",
   "execution_count": 40,
   "metadata": {},
   "outputs": [],
   "source": [
    "#ne pas prendre en compte c'était juste des tests de ma part\n",
    "train_audio = train_audio.reshape(train_audio.shape[0], train_audio.shape[1], 1)\n",
    "test_audio = test_audio.reshape(test_audio.shape[0], test_audio.shape[1], 1)\n"
   ]
  },
  {
   "cell_type": "code",
   "execution_count": 41,
   "metadata": {},
   "outputs": [
    {
     "name": "stdout",
     "output_type": "stream",
     "text": [
      "(800, 4, 1)\n",
      "(200, 4, 1)\n",
      "(800, 2)\n",
      "(200, 2)\n"
     ]
    }
   ],
   "source": [
    "#affichage des tailles des train/test pour vérifier\n",
    "print(train_audio.shape)\n",
    "print(test_audio.shape)\n",
    "print(train_centroid.shape)\n",
    "print(test_centroid.shape)"
   ]
  },
  {
   "cell_type": "markdown",
   "metadata": {},
   "source": [
    "**Méthode #1: Construire le modèle de regression à la main**"
   ]
  },
  {
   "cell_type": "code",
   "execution_count": 48,
   "metadata": {},
   "outputs": [
    {
     "name": "stderr",
     "output_type": "stream",
     "text": [
      "/opt/mamba/lib/python3.11/site-packages/keras/src/layers/core/dense.py:87: UserWarning: Do not pass an `input_shape`/`input_dim` argument to a layer. When using Sequential models, prefer using an `Input(shape)` object as the first layer in the model instead.\n",
      "  super().__init__(activity_regularizer=activity_regularizer, **kwargs)\n"
     ]
    },
    {
     "data": {
      "text/html": [
       "<pre style=\"white-space:pre;overflow-x:auto;line-height:normal;font-family:Menlo,'DejaVu Sans Mono',consolas,'Courier New',monospace\"><span style=\"font-weight: bold\">Model: \"sequential_9\"</span>\n",
       "</pre>\n"
      ],
      "text/plain": [
       "\u001b[1mModel: \"sequential_9\"\u001b[0m\n"
      ]
     },
     "metadata": {},
     "output_type": "display_data"
    },
    {
     "data": {
      "text/html": [
       "<pre style=\"white-space:pre;overflow-x:auto;line-height:normal;font-family:Menlo,'DejaVu Sans Mono',consolas,'Courier New',monospace\">┏━━━━━━━━━━━━━━━━━━━━━━━━━━━━━━━━━┳━━━━━━━━━━━━━━━━━━━━━━━━┳━━━━━━━━━━━━━━━┓\n",
       "┃<span style=\"font-weight: bold\"> Layer (type)                    </span>┃<span style=\"font-weight: bold\"> Output Shape           </span>┃<span style=\"font-weight: bold\">       Param # </span>┃\n",
       "┡━━━━━━━━━━━━━━━━━━━━━━━━━━━━━━━━━╇━━━━━━━━━━━━━━━━━━━━━━━━╇━━━━━━━━━━━━━━━┩\n",
       "│ dense_17 (<span style=\"color: #0087ff; text-decoration-color: #0087ff\">Dense</span>)                │ (<span style=\"color: #00d7ff; text-decoration-color: #00d7ff\">None</span>, <span style=\"color: #00af00; text-decoration-color: #00af00\">2</span>)              │            <span style=\"color: #00af00; text-decoration-color: #00af00\">10</span> │\n",
       "└─────────────────────────────────┴────────────────────────┴───────────────┘\n",
       "</pre>\n"
      ],
      "text/plain": [
       "┏━━━━━━━━━━━━━━━━━━━━━━━━━━━━━━━━━┳━━━━━━━━━━━━━━━━━━━━━━━━┳━━━━━━━━━━━━━━━┓\n",
       "┃\u001b[1m \u001b[0m\u001b[1mLayer (type)                   \u001b[0m\u001b[1m \u001b[0m┃\u001b[1m \u001b[0m\u001b[1mOutput Shape          \u001b[0m\u001b[1m \u001b[0m┃\u001b[1m \u001b[0m\u001b[1m      Param #\u001b[0m\u001b[1m \u001b[0m┃\n",
       "┡━━━━━━━━━━━━━━━━━━━━━━━━━━━━━━━━━╇━━━━━━━━━━━━━━━━━━━━━━━━╇━━━━━━━━━━━━━━━┩\n",
       "│ dense_17 (\u001b[38;5;33mDense\u001b[0m)                │ (\u001b[38;5;45mNone\u001b[0m, \u001b[38;5;34m2\u001b[0m)              │            \u001b[38;5;34m10\u001b[0m │\n",
       "└─────────────────────────────────┴────────────────────────┴───────────────┘\n"
      ]
     },
     "metadata": {},
     "output_type": "display_data"
    },
    {
     "data": {
      "text/html": [
       "<pre style=\"white-space:pre;overflow-x:auto;line-height:normal;font-family:Menlo,'DejaVu Sans Mono',consolas,'Courier New',monospace\"><span style=\"font-weight: bold\"> Total params: </span><span style=\"color: #00af00; text-decoration-color: #00af00\">10</span> (40.00 B)\n",
       "</pre>\n"
      ],
      "text/plain": [
       "\u001b[1m Total params: \u001b[0m\u001b[38;5;34m10\u001b[0m (40.00 B)\n"
      ]
     },
     "metadata": {},
     "output_type": "display_data"
    },
    {
     "data": {
      "text/html": [
       "<pre style=\"white-space:pre;overflow-x:auto;line-height:normal;font-family:Menlo,'DejaVu Sans Mono',consolas,'Courier New',monospace\"><span style=\"font-weight: bold\"> Trainable params: </span><span style=\"color: #00af00; text-decoration-color: #00af00\">10</span> (40.00 B)\n",
       "</pre>\n"
      ],
      "text/plain": [
       "\u001b[1m Trainable params: \u001b[0m\u001b[38;5;34m10\u001b[0m (40.00 B)\n"
      ]
     },
     "metadata": {},
     "output_type": "display_data"
    },
    {
     "data": {
      "text/html": [
       "<pre style=\"white-space:pre;overflow-x:auto;line-height:normal;font-family:Menlo,'DejaVu Sans Mono',consolas,'Courier New',monospace\"><span style=\"font-weight: bold\"> Non-trainable params: </span><span style=\"color: #00af00; text-decoration-color: #00af00\">0</span> (0.00 B)\n",
       "</pre>\n"
      ],
      "text/plain": [
       "\u001b[1m Non-trainable params: \u001b[0m\u001b[38;5;34m0\u001b[0m (0.00 B)\n"
      ]
     },
     "metadata": {},
     "output_type": "display_data"
    },
    {
     "name": "stdout",
     "output_type": "stream",
     "text": [
      "Epoch 1/100\n"
     ]
    },
    {
     "name": "stdout",
     "output_type": "stream",
     "text": [
      "\u001b[1m20/20\u001b[0m \u001b[32m━━━━━━━━━━━━━━━━━━━━\u001b[0m\u001b[37m\u001b[0m \u001b[1m1s\u001b[0m 9ms/step - loss: 3636015.2500 - mae: 1577.3925 - val_loss: 4590143.5000 - val_mae: 1832.8997\n",
      "Epoch 2/100\n",
      "\u001b[1m20/20\u001b[0m \u001b[32m━━━━━━━━━━━━━━━━━━━━\u001b[0m\u001b[37m\u001b[0m \u001b[1m0s\u001b[0m 4ms/step - loss: 3766408.2500 - mae: 1616.1530 - val_loss: 4590108.0000 - val_mae: 1832.8926\n",
      "Epoch 3/100\n",
      "\u001b[1m20/20\u001b[0m \u001b[32m━━━━━━━━━━━━━━━━━━━━\u001b[0m\u001b[37m\u001b[0m \u001b[1m0s\u001b[0m 4ms/step - loss: 3713750.7500 - mae: 1603.3823 - val_loss: 4590078.5000 - val_mae: 1832.8865\n",
      "Epoch 4/100\n",
      "\u001b[1m20/20\u001b[0m \u001b[32m━━━━━━━━━━━━━━━━━━━━\u001b[0m\u001b[37m\u001b[0m \u001b[1m0s\u001b[0m 3ms/step - loss: 3783308.7500 - mae: 1615.1852 - val_loss: 4590028.0000 - val_mae: 1832.8762\n",
      "Epoch 5/100\n",
      "\u001b[1m20/20\u001b[0m \u001b[32m━━━━━━━━━━━━━━━━━━━━\u001b[0m\u001b[37m\u001b[0m \u001b[1m0s\u001b[0m 4ms/step - loss: 3761607.2500 - mae: 1603.8849 - val_loss: 4589996.5000 - val_mae: 1832.8699\n",
      "Epoch 6/100\n",
      "\u001b[1m20/20\u001b[0m \u001b[32m━━━━━━━━━━━━━━━━━━━━\u001b[0m\u001b[37m\u001b[0m \u001b[1m0s\u001b[0m 4ms/step - loss: 3579108.7500 - mae: 1559.0017 - val_loss: 4589964.0000 - val_mae: 1832.8635\n",
      "Epoch 7/100\n",
      "\u001b[1m20/20\u001b[0m \u001b[32m━━━━━━━━━━━━━━━━━━━━\u001b[0m\u001b[37m\u001b[0m \u001b[1m0s\u001b[0m 3ms/step - loss: 3801847.2500 - mae: 1619.2937 - val_loss: 4589921.0000 - val_mae: 1832.8547\n",
      "Epoch 8/100\n",
      "\u001b[1m20/20\u001b[0m \u001b[32m━━━━━━━━━━━━━━━━━━━━\u001b[0m\u001b[37m\u001b[0m \u001b[1m0s\u001b[0m 3ms/step - loss: 3615706.5000 - mae: 1567.1046 - val_loss: 4589882.5000 - val_mae: 1832.8464\n",
      "Epoch 9/100\n",
      "\u001b[1m20/20\u001b[0m \u001b[32m━━━━━━━━━━━━━━━━━━━━\u001b[0m\u001b[37m\u001b[0m \u001b[1m0s\u001b[0m 3ms/step - loss: 3591068.7500 - mae: 1566.7129 - val_loss: 4589849.0000 - val_mae: 1832.8398\n",
      "Epoch 10/100\n",
      "\u001b[1m20/20\u001b[0m \u001b[32m━━━━━━━━━━━━━━━━━━━━\u001b[0m\u001b[37m\u001b[0m \u001b[1m0s\u001b[0m 3ms/step - loss: 3617981.0000 - mae: 1578.9313 - val_loss: 4589807.0000 - val_mae: 1832.8313\n",
      "Epoch 11/100\n",
      "\u001b[1m20/20\u001b[0m \u001b[32m━━━━━━━━━━━━━━━━━━━━\u001b[0m\u001b[37m\u001b[0m \u001b[1m0s\u001b[0m 3ms/step - loss: 3682987.7500 - mae: 1591.1947 - val_loss: 4589774.0000 - val_mae: 1832.8245\n",
      "Epoch 12/100\n",
      "\u001b[1m20/20\u001b[0m \u001b[32m━━━━━━━━━━━━━━━━━━━━\u001b[0m\u001b[37m\u001b[0m \u001b[1m0s\u001b[0m 3ms/step - loss: 3962185.2500 - mae: 1660.1885 - val_loss: 4589735.0000 - val_mae: 1832.8168\n",
      "Epoch 13/100\n",
      "\u001b[1m20/20\u001b[0m \u001b[32m━━━━━━━━━━━━━━━━━━━━\u001b[0m\u001b[37m\u001b[0m \u001b[1m0s\u001b[0m 4ms/step - loss: 3613504.7500 - mae: 1571.6238 - val_loss: 4589699.5000 - val_mae: 1832.8093\n",
      "Epoch 14/100\n",
      "\u001b[1m20/20\u001b[0m \u001b[32m━━━━━━━━━━━━━━━━━━━━\u001b[0m\u001b[37m\u001b[0m \u001b[1m0s\u001b[0m 3ms/step - loss: 3852385.2500 - mae: 1640.8578 - val_loss: 4589657.5000 - val_mae: 1832.8005\n",
      "Epoch 15/100\n",
      "\u001b[1m20/20\u001b[0m \u001b[32m━━━━━━━━━━━━━━━━━━━━\u001b[0m\u001b[37m\u001b[0m \u001b[1m0s\u001b[0m 3ms/step - loss: 3708520.2500 - mae: 1586.1375 - val_loss: 4589623.0000 - val_mae: 1832.7936\n",
      "Epoch 16/100\n",
      "\u001b[1m20/20\u001b[0m \u001b[32m━━━━━━━━━━━━━━━━━━━━\u001b[0m\u001b[37m\u001b[0m \u001b[1m0s\u001b[0m 4ms/step - loss: 3767139.7500 - mae: 1619.8740 - val_loss: 4589587.0000 - val_mae: 1832.7865\n",
      "Epoch 17/100\n",
      "\u001b[1m20/20\u001b[0m \u001b[32m━━━━━━━━━━━━━━━━━━━━\u001b[0m\u001b[37m\u001b[0m \u001b[1m0s\u001b[0m 4ms/step - loss: 3763428.2500 - mae: 1602.8265 - val_loss: 4589547.0000 - val_mae: 1832.7783\n",
      "Epoch 18/100\n",
      "\u001b[1m20/20\u001b[0m \u001b[32m━━━━━━━━━━━━━━━━━━━━\u001b[0m\u001b[37m\u001b[0m \u001b[1m0s\u001b[0m 4ms/step - loss: 3553810.0000 - mae: 1549.2972 - val_loss: 4589515.0000 - val_mae: 1832.7717\n",
      "Epoch 19/100\n",
      "\u001b[1m20/20\u001b[0m \u001b[32m━━━━━━━━━━━━━━━━━━━━\u001b[0m\u001b[37m\u001b[0m \u001b[1m0s\u001b[0m 4ms/step - loss: 3783326.5000 - mae: 1626.8276 - val_loss: 4589477.0000 - val_mae: 1832.7639\n",
      "Epoch 20/100\n",
      "\u001b[1m20/20\u001b[0m \u001b[32m━━━━━━━━━━━━━━━━━━━━\u001b[0m\u001b[37m\u001b[0m \u001b[1m0s\u001b[0m 4ms/step - loss: 3706801.0000 - mae: 1602.3834 - val_loss: 4589442.0000 - val_mae: 1832.7568\n",
      "Epoch 21/100\n",
      "\u001b[1m20/20\u001b[0m \u001b[32m━━━━━━━━━━━━━━━━━━━━\u001b[0m\u001b[37m\u001b[0m \u001b[1m0s\u001b[0m 4ms/step - loss: 3792326.2500 - mae: 1621.7115 - val_loss: 4589400.0000 - val_mae: 1832.7484\n",
      "Epoch 22/100\n",
      "\u001b[1m20/20\u001b[0m \u001b[32m━━━━━━━━━━━━━━━━━━━━\u001b[0m\u001b[37m\u001b[0m \u001b[1m0s\u001b[0m 4ms/step - loss: 3609902.7500 - mae: 1570.9329 - val_loss: 4589365.0000 - val_mae: 1832.7412\n",
      "Epoch 23/100\n",
      "\u001b[1m20/20\u001b[0m \u001b[32m━━━━━━━━━━━━━━━━━━━━\u001b[0m\u001b[37m\u001b[0m \u001b[1m0s\u001b[0m 3ms/step - loss: 3805661.0000 - mae: 1622.0157 - val_loss: 4589327.5000 - val_mae: 1832.7336\n",
      "Epoch 24/100\n",
      "\u001b[1m20/20\u001b[0m \u001b[32m━━━━━━━━━━━━━━━━━━━━\u001b[0m\u001b[37m\u001b[0m \u001b[1m0s\u001b[0m 3ms/step - loss: 3754604.5000 - mae: 1603.2147 - val_loss: 4589290.5000 - val_mae: 1832.7260\n",
      "Epoch 25/100\n",
      "\u001b[1m20/20\u001b[0m \u001b[32m━━━━━━━━━━━━━━━━━━━━\u001b[0m\u001b[37m\u001b[0m \u001b[1m0s\u001b[0m 4ms/step - loss: 3773257.5000 - mae: 1627.7621 - val_loss: 4589253.0000 - val_mae: 1832.7184\n",
      "Epoch 26/100\n",
      "\u001b[1m20/20\u001b[0m \u001b[32m━━━━━━━━━━━━━━━━━━━━\u001b[0m\u001b[37m\u001b[0m \u001b[1m0s\u001b[0m 4ms/step - loss: 3674490.7500 - mae: 1581.0326 - val_loss: 4589217.0000 - val_mae: 1832.7112\n",
      "Epoch 27/100\n",
      "\u001b[1m20/20\u001b[0m \u001b[32m━━━━━━━━━━━━━━━━━━━━\u001b[0m\u001b[37m\u001b[0m \u001b[1m0s\u001b[0m 4ms/step - loss: 3763514.5000 - mae: 1610.4653 - val_loss: 4589179.0000 - val_mae: 1832.7035\n",
      "Epoch 28/100\n",
      "\u001b[1m20/20\u001b[0m \u001b[32m━━━━━━━━━━━━━━━━━━━━\u001b[0m\u001b[37m\u001b[0m \u001b[1m0s\u001b[0m 3ms/step - loss: 3766908.0000 - mae: 1614.3167 - val_loss: 4589141.0000 - val_mae: 1832.6957\n",
      "Epoch 29/100\n",
      "\u001b[1m20/20\u001b[0m \u001b[32m━━━━━━━━━━━━━━━━━━━━\u001b[0m\u001b[37m\u001b[0m \u001b[1m0s\u001b[0m 3ms/step - loss: 3669835.2500 - mae: 1589.9928 - val_loss: 4589106.0000 - val_mae: 1832.6888\n",
      "Epoch 30/100\n",
      "\u001b[1m20/20\u001b[0m \u001b[32m━━━━━━━━━━━━━━━━━━━━\u001b[0m\u001b[37m\u001b[0m \u001b[1m0s\u001b[0m 3ms/step - loss: 3780134.5000 - mae: 1618.9890 - val_loss: 4589071.0000 - val_mae: 1832.6816\n",
      "Epoch 31/100\n",
      "\u001b[1m20/20\u001b[0m \u001b[32m━━━━━━━━━━━━━━━━━━━━\u001b[0m\u001b[37m\u001b[0m \u001b[1m0s\u001b[0m 4ms/step - loss: 3723283.2500 - mae: 1600.1313 - val_loss: 4589030.5000 - val_mae: 1832.6735\n",
      "Epoch 32/100\n",
      "\u001b[1m20/20\u001b[0m \u001b[32m━━━━━━━━━━━━━━━━━━━━\u001b[0m\u001b[37m\u001b[0m \u001b[1m0s\u001b[0m 4ms/step - loss: 3641489.2500 - mae: 1566.9116 - val_loss: 4588991.5000 - val_mae: 1832.6653\n",
      "Epoch 33/100\n",
      "\u001b[1m20/20\u001b[0m \u001b[32m━━━━━━━━━━━━━━━━━━━━\u001b[0m\u001b[37m\u001b[0m \u001b[1m0s\u001b[0m 3ms/step - loss: 3782348.5000 - mae: 1609.9486 - val_loss: 4588957.5000 - val_mae: 1832.6586\n",
      "Epoch 34/100\n",
      "\u001b[1m20/20\u001b[0m \u001b[32m━━━━━━━━━━━━━━━━━━━━\u001b[0m\u001b[37m\u001b[0m \u001b[1m0s\u001b[0m 4ms/step - loss: 3736224.0000 - mae: 1596.5734 - val_loss: 4588919.0000 - val_mae: 1832.6506\n",
      "Epoch 35/100\n",
      "\u001b[1m20/20\u001b[0m \u001b[32m━━━━━━━━━━━━━━━━━━━━\u001b[0m\u001b[37m\u001b[0m \u001b[1m0s\u001b[0m 4ms/step - loss: 3726490.0000 - mae: 1598.6871 - val_loss: 4588883.0000 - val_mae: 1832.6433\n",
      "Epoch 36/100\n",
      "\u001b[1m20/20\u001b[0m \u001b[32m━━━━━━━━━━━━━━━━━━━━\u001b[0m\u001b[37m\u001b[0m \u001b[1m0s\u001b[0m 4ms/step - loss: 3678954.5000 - mae: 1586.9132 - val_loss: 4588841.5000 - val_mae: 1832.6350\n",
      "Epoch 37/100\n",
      "\u001b[1m20/20\u001b[0m \u001b[32m━━━━━━━━━━━━━━━━━━━━\u001b[0m\u001b[37m\u001b[0m \u001b[1m0s\u001b[0m 3ms/step - loss: 3729171.7500 - mae: 1595.4648 - val_loss: 4588804.0000 - val_mae: 1832.6273\n",
      "Epoch 38/100\n",
      "\u001b[1m20/20\u001b[0m \u001b[32m━━━━━━━━━━━━━━━━━━━━\u001b[0m\u001b[37m\u001b[0m \u001b[1m0s\u001b[0m 4ms/step - loss: 3734639.2500 - mae: 1618.3602 - val_loss: 4588767.0000 - val_mae: 1832.6198\n",
      "Epoch 39/100\n",
      "\u001b[1m20/20\u001b[0m \u001b[32m━━━━━━━━━━━━━━━━━━━━\u001b[0m\u001b[37m\u001b[0m \u001b[1m0s\u001b[0m 4ms/step - loss: 3738770.0000 - mae: 1614.8994 - val_loss: 4588731.0000 - val_mae: 1832.6123\n",
      "Epoch 40/100\n",
      "\u001b[1m20/20\u001b[0m \u001b[32m━━━━━━━━━━━━━━━━━━━━\u001b[0m\u001b[37m\u001b[0m \u001b[1m0s\u001b[0m 3ms/step - loss: 3723772.2500 - mae: 1592.1157 - val_loss: 4588693.0000 - val_mae: 1832.6047\n",
      "Epoch 41/100\n",
      "\u001b[1m20/20\u001b[0m \u001b[32m━━━━━━━━━━━━━━━━━━━━\u001b[0m\u001b[37m\u001b[0m \u001b[1m0s\u001b[0m 3ms/step - loss: 3744732.5000 - mae: 1610.1478 - val_loss: 4588651.0000 - val_mae: 1832.5961\n",
      "Epoch 42/100\n",
      "\u001b[1m20/20\u001b[0m \u001b[32m━━━━━━━━━━━━━━━━━━━━\u001b[0m\u001b[37m\u001b[0m \u001b[1m0s\u001b[0m 3ms/step - loss: 3574347.5000 - mae: 1558.8275 - val_loss: 4588619.0000 - val_mae: 1832.5896\n",
      "Epoch 43/100\n",
      "\u001b[1m20/20\u001b[0m \u001b[32m━━━━━━━━━━━━━━━━━━━━\u001b[0m\u001b[37m\u001b[0m \u001b[1m0s\u001b[0m 4ms/step - loss: 3711220.2500 - mae: 1588.0936 - val_loss: 4588585.0000 - val_mae: 1832.5828\n",
      "Epoch 44/100\n",
      "\u001b[1m20/20\u001b[0m \u001b[32m━━━━━━━━━━━━━━━━━━━━\u001b[0m\u001b[37m\u001b[0m \u001b[1m0s\u001b[0m 3ms/step - loss: 3892679.5000 - mae: 1643.4100 - val_loss: 4588543.0000 - val_mae: 1832.5742\n",
      "Epoch 45/100\n",
      "\u001b[1m20/20\u001b[0m \u001b[32m━━━━━━━━━━━━━━━━━━━━\u001b[0m\u001b[37m\u001b[0m \u001b[1m0s\u001b[0m 4ms/step - loss: 3637948.0000 - mae: 1582.3787 - val_loss: 4588508.0000 - val_mae: 1832.5671\n",
      "Epoch 46/100\n",
      "\u001b[1m20/20\u001b[0m \u001b[32m━━━━━━━━━━━━━━━━━━━━\u001b[0m\u001b[37m\u001b[0m \u001b[1m0s\u001b[0m 4ms/step - loss: 3813705.7500 - mae: 1628.0413 - val_loss: 4588469.5000 - val_mae: 1832.5592\n",
      "Epoch 47/100\n",
      "\u001b[1m20/20\u001b[0m \u001b[32m━━━━━━━━━━━━━━━━━━━━\u001b[0m\u001b[37m\u001b[0m \u001b[1m0s\u001b[0m 3ms/step - loss: 3755169.7500 - mae: 1605.8972 - val_loss: 4588430.5000 - val_mae: 1832.5511\n",
      "Epoch 48/100\n",
      "\u001b[1m20/20\u001b[0m \u001b[32m━━━━━━━━━━━━━━━━━━━━\u001b[0m\u001b[37m\u001b[0m \u001b[1m0s\u001b[0m 3ms/step - loss: 3780582.2500 - mae: 1621.6423 - val_loss: 4588388.0000 - val_mae: 1832.5426\n",
      "Epoch 49/100\n",
      "\u001b[1m20/20\u001b[0m \u001b[32m━━━━━━━━━━━━━━━━━━━━\u001b[0m\u001b[37m\u001b[0m \u001b[1m0s\u001b[0m 4ms/step - loss: 3678997.0000 - mae: 1586.4365 - val_loss: 4588354.5000 - val_mae: 1832.5359\n",
      "Epoch 50/100\n",
      "\u001b[1m20/20\u001b[0m \u001b[32m━━━━━━━━━━━━━━━━━━━━\u001b[0m\u001b[37m\u001b[0m \u001b[1m0s\u001b[0m 4ms/step - loss: 3735978.7500 - mae: 1606.5830 - val_loss: 4588314.5000 - val_mae: 1832.5277\n",
      "Epoch 51/100\n",
      "\u001b[1m20/20\u001b[0m \u001b[32m━━━━━━━━━━━━━━━━━━━━\u001b[0m\u001b[37m\u001b[0m \u001b[1m0s\u001b[0m 4ms/step - loss: 3708845.2500 - mae: 1595.9585 - val_loss: 4588280.5000 - val_mae: 1832.5209\n",
      "Epoch 52/100\n",
      "\u001b[1m20/20\u001b[0m \u001b[32m━━━━━━━━━━━━━━━━━━━━\u001b[0m\u001b[37m\u001b[0m \u001b[1m0s\u001b[0m 3ms/step - loss: 3815369.0000 - mae: 1624.3936 - val_loss: 4588242.5000 - val_mae: 1832.5131\n",
      "Epoch 53/100\n",
      "\u001b[1m20/20\u001b[0m \u001b[32m━━━━━━━━━━━━━━━━━━━━\u001b[0m\u001b[37m\u001b[0m \u001b[1m0s\u001b[0m 4ms/step - loss: 3672519.2500 - mae: 1578.1199 - val_loss: 4588206.5000 - val_mae: 1832.5056\n",
      "Epoch 54/100\n",
      "\u001b[1m20/20\u001b[0m \u001b[32m━━━━━━━━━━━━━━━━━━━━\u001b[0m\u001b[37m\u001b[0m \u001b[1m0s\u001b[0m 4ms/step - loss: 3687227.2500 - mae: 1581.2340 - val_loss: 4588165.0000 - val_mae: 1832.4973\n",
      "Epoch 55/100\n",
      "\u001b[1m20/20\u001b[0m \u001b[32m━━━━━━━━━━━━━━━━━━━━\u001b[0m\u001b[37m\u001b[0m \u001b[1m0s\u001b[0m 3ms/step - loss: 3827255.0000 - mae: 1623.5302 - val_loss: 4588126.5000 - val_mae: 1832.4895\n",
      "Epoch 56/100\n",
      "\u001b[1m20/20\u001b[0m \u001b[32m━━━━━━━━━━━━━━━━━━━━\u001b[0m\u001b[37m\u001b[0m \u001b[1m0s\u001b[0m 3ms/step - loss: 3761072.0000 - mae: 1610.5056 - val_loss: 4588091.5000 - val_mae: 1832.4822\n",
      "Epoch 57/100\n",
      "\u001b[1m20/20\u001b[0m \u001b[32m━━━━━━━━━━━━━━━━━━━━\u001b[0m\u001b[37m\u001b[0m \u001b[1m0s\u001b[0m 4ms/step - loss: 3804570.5000 - mae: 1619.5161 - val_loss: 4588057.5000 - val_mae: 1832.4753\n",
      "Epoch 58/100\n",
      "\u001b[1m20/20\u001b[0m \u001b[32m━━━━━━━━━━━━━━━━━━━━\u001b[0m\u001b[37m\u001b[0m \u001b[1m0s\u001b[0m 3ms/step - loss: 3755553.2500 - mae: 1600.7959 - val_loss: 4588016.5000 - val_mae: 1832.4672\n",
      "Epoch 59/100\n",
      "\u001b[1m20/20\u001b[0m \u001b[32m━━━━━━━━━━━━━━━━━━━━\u001b[0m\u001b[37m\u001b[0m \u001b[1m0s\u001b[0m 4ms/step - loss: 3647624.2500 - mae: 1591.8718 - val_loss: 4587980.0000 - val_mae: 1832.4597\n",
      "Epoch 60/100\n",
      "\u001b[1m20/20\u001b[0m \u001b[32m━━━━━━━━━━━━━━━━━━━━\u001b[0m\u001b[37m\u001b[0m \u001b[1m0s\u001b[0m 4ms/step - loss: 3699898.5000 - mae: 1599.6123 - val_loss: 4587944.0000 - val_mae: 1832.4524\n",
      "Epoch 61/100\n",
      "\u001b[1m20/20\u001b[0m \u001b[32m━━━━━━━━━━━━━━━━━━━━\u001b[0m\u001b[37m\u001b[0m \u001b[1m0s\u001b[0m 3ms/step - loss: 3477295.7500 - mae: 1534.5200 - val_loss: 4587909.0000 - val_mae: 1832.4453\n",
      "Epoch 62/100\n",
      "\u001b[1m20/20\u001b[0m \u001b[32m━━━━━━━━━━━━━━━━━━━━\u001b[0m\u001b[37m\u001b[0m \u001b[1m0s\u001b[0m 4ms/step - loss: 3670880.2500 - mae: 1571.8936 - val_loss: 4587872.0000 - val_mae: 1832.4377\n",
      "Epoch 63/100\n",
      "\u001b[1m20/20\u001b[0m \u001b[32m━━━━━━━━━━━━━━━━━━━━\u001b[0m\u001b[37m\u001b[0m \u001b[1m0s\u001b[0m 4ms/step - loss: 3601115.0000 - mae: 1569.1729 - val_loss: 4587830.5000 - val_mae: 1832.4293\n",
      "Epoch 64/100\n",
      "\u001b[1m20/20\u001b[0m \u001b[32m━━━━━━━━━━━━━━━━━━━━\u001b[0m\u001b[37m\u001b[0m \u001b[1m0s\u001b[0m 3ms/step - loss: 3540004.0000 - mae: 1549.7109 - val_loss: 4587801.0000 - val_mae: 1832.4232\n",
      "Epoch 65/100\n",
      "\u001b[1m20/20\u001b[0m \u001b[32m━━━━━━━━━━━━━━━━━━━━\u001b[0m\u001b[37m\u001b[0m \u001b[1m0s\u001b[0m 4ms/step - loss: 3656185.0000 - mae: 1597.6871 - val_loss: 4587761.0000 - val_mae: 1832.4148\n",
      "Epoch 66/100\n",
      "\u001b[1m20/20\u001b[0m \u001b[32m━━━━━━━━━━━━━━━━━━━━\u001b[0m\u001b[37m\u001b[0m \u001b[1m0s\u001b[0m 3ms/step - loss: 3682328.5000 - mae: 1589.8575 - val_loss: 4587723.0000 - val_mae: 1832.4075\n",
      "Epoch 67/100\n",
      "\u001b[1m20/20\u001b[0m \u001b[32m━━━━━━━━━━━━━━━━━━━━\u001b[0m\u001b[37m\u001b[0m \u001b[1m0s\u001b[0m 3ms/step - loss: 3677441.5000 - mae: 1595.2780 - val_loss: 4587683.0000 - val_mae: 1832.3990\n",
      "Epoch 68/100\n",
      "\u001b[1m20/20\u001b[0m \u001b[32m━━━━━━━━━━━━━━━━━━━━\u001b[0m\u001b[37m\u001b[0m \u001b[1m0s\u001b[0m 3ms/step - loss: 3701884.7500 - mae: 1602.1375 - val_loss: 4587650.5000 - val_mae: 1832.3926\n",
      "Epoch 69/100\n",
      "\u001b[1m20/20\u001b[0m \u001b[32m━━━━━━━━━━━━━━━━━━━━\u001b[0m\u001b[37m\u001b[0m \u001b[1m0s\u001b[0m 3ms/step - loss: 3718497.7500 - mae: 1595.3160 - val_loss: 4587608.0000 - val_mae: 1832.3840\n",
      "Epoch 70/100\n",
      "\u001b[1m20/20\u001b[0m \u001b[32m━━━━━━━━━━━━━━━━━━━━\u001b[0m\u001b[37m\u001b[0m \u001b[1m0s\u001b[0m 3ms/step - loss: 3502014.7500 - mae: 1539.6932 - val_loss: 4587571.5000 - val_mae: 1832.3766\n",
      "Epoch 71/100\n",
      "\u001b[1m20/20\u001b[0m \u001b[32m━━━━━━━━━━━━━━━━━━━━\u001b[0m\u001b[37m\u001b[0m \u001b[1m0s\u001b[0m 3ms/step - loss: 3545141.0000 - mae: 1550.8265 - val_loss: 4587537.0000 - val_mae: 1832.3695\n",
      "Epoch 72/100\n",
      "\u001b[1m20/20\u001b[0m \u001b[32m━━━━━━━━━━━━━━━━━━━━\u001b[0m\u001b[37m\u001b[0m \u001b[1m0s\u001b[0m 3ms/step - loss: 3732308.2500 - mae: 1615.8694 - val_loss: 4587504.0000 - val_mae: 1832.3627\n",
      "Epoch 73/100\n",
      "\u001b[1m20/20\u001b[0m \u001b[32m━━━━━━━━━━━━━━━━━━━━\u001b[0m\u001b[37m\u001b[0m \u001b[1m0s\u001b[0m 4ms/step - loss: 3504071.2500 - mae: 1535.1813 - val_loss: 4587459.0000 - val_mae: 1832.3539\n",
      "Epoch 74/100\n",
      "\u001b[1m20/20\u001b[0m \u001b[32m━━━━━━━━━━━━━━━━━━━━\u001b[0m\u001b[37m\u001b[0m \u001b[1m0s\u001b[0m 3ms/step - loss: 3666568.5000 - mae: 1586.1930 - val_loss: 4587421.0000 - val_mae: 1832.3459\n",
      "Epoch 75/100\n",
      "\u001b[1m20/20\u001b[0m \u001b[32m━━━━━━━━━━━━━━━━━━━━\u001b[0m\u001b[37m\u001b[0m \u001b[1m0s\u001b[0m 3ms/step - loss: 3523185.5000 - mae: 1544.0836 - val_loss: 4587389.0000 - val_mae: 1832.3395\n",
      "Epoch 76/100\n",
      "\u001b[1m20/20\u001b[0m \u001b[32m━━━━━━━━━━━━━━━━━━━━\u001b[0m\u001b[37m\u001b[0m \u001b[1m0s\u001b[0m 3ms/step - loss: 3599280.0000 - mae: 1561.3403 - val_loss: 4587353.5000 - val_mae: 1832.3324\n",
      "Epoch 77/100\n",
      "\u001b[1m20/20\u001b[0m \u001b[32m━━━━━━━━━━━━━━━━━━━━\u001b[0m\u001b[37m\u001b[0m \u001b[1m0s\u001b[0m 4ms/step - loss: 3692922.7500 - mae: 1595.7974 - val_loss: 4587318.5000 - val_mae: 1832.3252\n",
      "Epoch 78/100\n",
      "\u001b[1m20/20\u001b[0m \u001b[32m━━━━━━━━━━━━━━━━━━━━\u001b[0m\u001b[37m\u001b[0m \u001b[1m0s\u001b[0m 4ms/step - loss: 3808194.2500 - mae: 1623.0706 - val_loss: 4587277.5000 - val_mae: 1832.3168\n",
      "Epoch 79/100\n",
      "\u001b[1m20/20\u001b[0m \u001b[32m━━━━━━━━━━━━━━━━━━━━\u001b[0m\u001b[37m\u001b[0m \u001b[1m0s\u001b[0m 3ms/step - loss: 3665227.7500 - mae: 1592.9193 - val_loss: 4587241.0000 - val_mae: 1832.3093\n",
      "Epoch 80/100\n",
      "\u001b[1m20/20\u001b[0m \u001b[32m━━━━━━━━━━━━━━━━━━━━\u001b[0m\u001b[37m\u001b[0m \u001b[1m0s\u001b[0m 3ms/step - loss: 3542511.0000 - mae: 1550.4800 - val_loss: 4587198.0000 - val_mae: 1832.3004\n",
      "Epoch 81/100\n",
      "\u001b[1m20/20\u001b[0m \u001b[32m━━━━━━━━━━━━━━━━━━━━\u001b[0m\u001b[37m\u001b[0m \u001b[1m0s\u001b[0m 3ms/step - loss: 3709860.0000 - mae: 1583.9777 - val_loss: 4587166.5000 - val_mae: 1832.2942\n",
      "Epoch 82/100\n",
      "\u001b[1m20/20\u001b[0m \u001b[32m━━━━━━━━━━━━━━━━━━━━\u001b[0m\u001b[37m\u001b[0m \u001b[1m0s\u001b[0m 3ms/step - loss: 3800817.7500 - mae: 1626.2666 - val_loss: 4587127.0000 - val_mae: 1832.2861\n",
      "Epoch 83/100\n",
      "\u001b[1m20/20\u001b[0m \u001b[32m━━━━━━━━━━━━━━━━━━━━\u001b[0m\u001b[37m\u001b[0m \u001b[1m0s\u001b[0m 4ms/step - loss: 3594104.5000 - mae: 1564.2878 - val_loss: 4587090.0000 - val_mae: 1832.2786\n",
      "Epoch 84/100\n",
      "\u001b[1m20/20\u001b[0m \u001b[32m━━━━━━━━━━━━━━━━━━━━\u001b[0m\u001b[37m\u001b[0m \u001b[1m0s\u001b[0m 3ms/step - loss: 3757830.0000 - mae: 1617.9471 - val_loss: 4587049.0000 - val_mae: 1832.2701\n",
      "Epoch 85/100\n",
      "\u001b[1m20/20\u001b[0m \u001b[32m━━━━━━━━━━━━━━━━━━━━\u001b[0m\u001b[37m\u001b[0m \u001b[1m0s\u001b[0m 4ms/step - loss: 3651956.7500 - mae: 1571.2694 - val_loss: 4587017.5000 - val_mae: 1832.2639\n",
      "Epoch 86/100\n",
      "\u001b[1m20/20\u001b[0m \u001b[32m━━━━━━━━━━━━━━━━━━━━\u001b[0m\u001b[37m\u001b[0m \u001b[1m0s\u001b[0m 4ms/step - loss: 3681925.2500 - mae: 1590.2584 - val_loss: 4586979.5000 - val_mae: 1832.2562\n",
      "Epoch 87/100\n",
      "\u001b[1m20/20\u001b[0m \u001b[32m━━━━━━━━━━━━━━━━━━━━\u001b[0m\u001b[37m\u001b[0m \u001b[1m0s\u001b[0m 4ms/step - loss: 3642666.2500 - mae: 1579.6522 - val_loss: 4586946.5000 - val_mae: 1832.2493\n",
      "Epoch 88/100\n",
      "\u001b[1m20/20\u001b[0m \u001b[32m━━━━━━━━━━━━━━━━━━━━\u001b[0m\u001b[37m\u001b[0m \u001b[1m0s\u001b[0m 4ms/step - loss: 3698973.0000 - mae: 1596.5172 - val_loss: 4586909.5000 - val_mae: 1832.2418\n",
      "Epoch 89/100\n",
      "\u001b[1m20/20\u001b[0m \u001b[32m━━━━━━━━━━━━━━━━━━━━\u001b[0m\u001b[37m\u001b[0m \u001b[1m0s\u001b[0m 4ms/step - loss: 3661105.5000 - mae: 1581.9869 - val_loss: 4586867.0000 - val_mae: 1832.2332\n",
      "Epoch 90/100\n",
      "\u001b[1m20/20\u001b[0m \u001b[32m━━━━━━━━━━━━━━━━━━━━\u001b[0m\u001b[37m\u001b[0m \u001b[1m0s\u001b[0m 4ms/step - loss: 3613414.2500 - mae: 1568.8911 - val_loss: 4586832.0000 - val_mae: 1832.2260\n",
      "Epoch 91/100\n",
      "\u001b[1m20/20\u001b[0m \u001b[32m━━━━━━━━━━━━━━━━━━━━\u001b[0m\u001b[37m\u001b[0m \u001b[1m0s\u001b[0m 4ms/step - loss: 3585900.2500 - mae: 1561.5375 - val_loss: 4586795.0000 - val_mae: 1832.2185\n",
      "Epoch 92/100\n",
      "\u001b[1m20/20\u001b[0m \u001b[32m━━━━━━━━━━━━━━━━━━━━\u001b[0m\u001b[37m\u001b[0m \u001b[1m0s\u001b[0m 3ms/step - loss: 3646553.5000 - mae: 1580.7780 - val_loss: 4586755.0000 - val_mae: 1832.2103\n",
      "Epoch 93/100\n",
      "\u001b[1m20/20\u001b[0m \u001b[32m━━━━━━━━━━━━━━━━━━━━\u001b[0m\u001b[37m\u001b[0m \u001b[1m0s\u001b[0m 4ms/step - loss: 3758534.0000 - mae: 1606.3442 - val_loss: 4586715.5000 - val_mae: 1832.2021\n",
      "Epoch 94/100\n",
      "\u001b[1m20/20\u001b[0m \u001b[32m━━━━━━━━━━━━━━━━━━━━\u001b[0m\u001b[37m\u001b[0m \u001b[1m0s\u001b[0m 3ms/step - loss: 3714765.0000 - mae: 1594.9282 - val_loss: 4586677.5000 - val_mae: 1832.1946\n",
      "Epoch 95/100\n",
      "\u001b[1m20/20\u001b[0m \u001b[32m━━━━━━━━━━━━━━━━━━━━\u001b[0m\u001b[37m\u001b[0m \u001b[1m0s\u001b[0m 3ms/step - loss: 3806596.5000 - mae: 1630.4272 - val_loss: 4586637.0000 - val_mae: 1832.1863\n",
      "Epoch 96/100\n",
      "\u001b[1m20/20\u001b[0m \u001b[32m━━━━━━━━━━━━━━━━━━━━\u001b[0m\u001b[37m\u001b[0m \u001b[1m0s\u001b[0m 3ms/step - loss: 3619828.0000 - mae: 1580.6952 - val_loss: 4586606.5000 - val_mae: 1832.1801\n",
      "Epoch 97/100\n",
      "\u001b[1m20/20\u001b[0m \u001b[32m━━━━━━━━━━━━━━━━━━━━\u001b[0m\u001b[37m\u001b[0m \u001b[1m0s\u001b[0m 3ms/step - loss: 3610635.0000 - mae: 1577.5978 - val_loss: 4586569.0000 - val_mae: 1832.1725\n",
      "Epoch 98/100\n",
      "\u001b[1m20/20\u001b[0m \u001b[32m━━━━━━━━━━━━━━━━━━━━\u001b[0m\u001b[37m\u001b[0m \u001b[1m0s\u001b[0m 4ms/step - loss: 3532653.5000 - mae: 1550.3846 - val_loss: 4586528.5000 - val_mae: 1832.1643\n",
      "Epoch 99/100\n",
      "\u001b[1m20/20\u001b[0m \u001b[32m━━━━━━━━━━━━━━━━━━━━\u001b[0m\u001b[37m\u001b[0m \u001b[1m0s\u001b[0m 4ms/step - loss: 3604125.7500 - mae: 1560.3582 - val_loss: 4586495.5000 - val_mae: 1832.1576\n",
      "Epoch 100/100\n",
      "\u001b[1m20/20\u001b[0m \u001b[32m━━━━━━━━━━━━━━━━━━━━\u001b[0m\u001b[37m\u001b[0m \u001b[1m0s\u001b[0m 3ms/step - loss: 3698409.7500 - mae: 1600.6248 - val_loss: 4586462.0000 - val_mae: 1832.1508\n",
      "\u001b[1m7/7\u001b[0m \u001b[32m━━━━━━━━━━━━━━━━━━━━\u001b[0m\u001b[37m\u001b[0m \u001b[1m0s\u001b[0m 1ms/step - loss: 3775682.7500 - mae: 1586.6848 \n",
      "Test MSE: 4200291.0\n",
      "Test MAE: 1724.5914306640625\n",
      "\u001b[1m7/7\u001b[0m \u001b[32m━━━━━━━━━━━━━━━━━━━━\u001b[0m\u001b[37m\u001b[0m \u001b[1m0s\u001b[0m 3ms/step \n",
      "Test MSE (from sklearn): 4200290.933396511\n"
     ]
    }
   ],
   "source": [
    "import numpy as np\n",
    "import tensorflow as tf\n",
    "from sklearn.model_selection import train_test_split\n",
    "from sklearn.metrics import mean_squared_error\n",
    "\n",
    "\n",
    "# Données d'entraînement\n",
    "X_train = train_audio.reshape(train_audio.shape[0], -1)  # Aplatir les données audio\n",
    "y_train = train_centroid\n",
    "\n",
    "# Données de test\n",
    "X_test = test_audio.reshape(test_audio.shape[0], -1)  # Aplatir les données audio\n",
    "y_test = test_centroid\n",
    "\n",
    "# Définir le modèle de régression linéaire\n",
    "model = tf.keras.Sequential([\n",
    "    tf.keras.layers.Dense(2, input_shape=(X_train.shape[1],))\n",
    "])\n",
    "\n",
    "# Compiler le modèle\n",
    "model.compile(optimizer='adam', loss='mse', metrics=['mae'])\n",
    "\n",
    "# Résumé du modèle\n",
    "model.summary()\n",
    "\n",
    "# Entraîner le modèle\n",
    "history = model.fit(X_train, y_train, epochs=100, batch_size=32, validation_split=0.2)\n",
    "\n",
    "# Évaluation du modèle sur les données de test\n",
    "mse, mae = model.evaluate(X_test, y_test)\n",
    "print(\"Test MSE:\", mse)\n",
    "print(\"Test MAE:\", mae)\n",
    "\n",
    "# Prédictions sur les données de test\n",
    "predictions = model.predict(X_test)\n",
    "\n",
    "# Calcul de l'erreur quadratique moyenne\n",
    "test_mse = mean_squared_error(y_test, predictions)\n",
    "print(\"Test MSE (from sklearn):\", test_mse)\n"
   ]
  },
  {
   "cell_type": "markdown",
   "metadata": {},
   "source": [
    "MSE et MAE trop importante, on peut essayer avec une autre méthode."
   ]
  },
  {
   "cell_type": "markdown",
   "metadata": {},
   "source": [
    "**Méthode #2: Utiliser le modèle de Regression de sklearn**"
   ]
  },
  {
   "cell_type": "code",
   "execution_count": 61,
   "metadata": {},
   "outputs": [
    {
     "name": "stdout",
     "output_type": "stream",
     "text": [
      "Test MSE: 1867180.4359605347\n",
      "Test MAE: 1144.0633101380565\n",
      "Test R²: 0.027847632448877946\n"
     ]
    }
   ],
   "source": [
    "from sklearn.linear_model import LinearRegression\n",
    "from sklearn.metrics import mean_squared_error, mean_absolute_error, r2_score\n",
    "\n",
    "# aplatir les données\n",
    "X_train_flat = train_audio.reshape(train_audio.shape[0], -1)\n",
    "X_test_flat = test_audio.reshape(test_audio.shape[0], -1)\n",
    "\n",
    "# initialiser le modèle de régression\n",
    "linear_regression_model = LinearRegression()\n",
    "\n",
    "# entraîner le modèle avec les données d'entraînements\n",
    "linear_regression_model.fit(X_train_flat, train_centroid)\n",
    "\n",
    "# faire les prédictions avec le dataset de test\n",
    "predictions = linear_regression_model.predict(X_test_flat)\n",
    "\n",
    "# évaluer le modèle\n",
    "mse = mean_squared_error(test_centroid, predictions)\n",
    "mae = mean_absolute_error(test_centroid, predictions)\n",
    "r2 = r2_score(test_centroid, predictions)\n",
    "\n",
    "\n",
    "\n",
    "\n",
    "print(\"Test MSE:\", mse)\n",
    "print(\"Test MAE:\", mae)\n",
    "print(\"Test R²:\", r2)\n"
   ]
  },
  {
   "cell_type": "markdown",
   "metadata": {},
   "source": [
    "On a une meilleure MSE et une meilleure MAE."
   ]
  },
  {
   "cell_type": "code",
   "execution_count": 65,
   "metadata": {},
   "outputs": [
    {
     "name": "stdout",
     "output_type": "stream",
     "text": [
      "[[-2144.6636    -486.12387 ]\n",
      " [-2521.459      155.85931 ]\n",
      " [-2167.2307    -610.8237  ]\n",
      " [-2099.2627    -535.099   ]\n",
      " [-1750.1545    -656.9459  ]\n",
      " [-1624.064     -951.8827  ]\n",
      " [-1994.3605    -790.6887  ]\n",
      " [-2199.135     -568.6044  ]\n",
      " [-1366.7092   -1097.7041  ]\n",
      " [ -283.83545  -1344.1934  ]\n",
      " [ -832.3877    -383.80762 ]\n",
      " [ -710.3325    -397.57172 ]\n",
      " [ -241.1134    -739.57947 ]\n",
      " [-1720.3455    -404.18872 ]\n",
      " [-1534.3519    -636.0217  ]\n",
      " [-1404.8018   -1252.2693  ]\n",
      " [-1298.9373   -1059.9868  ]\n",
      " [-2101.5166    -463.48877 ]\n",
      " [-2165.6472    -372.94287 ]\n",
      " [-2162.5796    -433.5474  ]\n",
      " [-2349.9485    -271.2079  ]\n",
      " [-2376.2537     -87.233215]\n",
      " [-2484.674       34.399048]\n",
      " [-2246.6653    -238.9267  ]\n",
      " [-2346.7183   -2389.7058  ]\n",
      " [-2185.539    -1866.7717  ]\n",
      " [-2469.7334   -1953.7847  ]\n",
      " [-2443.162    -2001.0798  ]\n",
      " [-2184.3503   -1954.0544  ]\n",
      " [-2442.5676   -1888.6306  ]\n",
      " [-2419.0608   -1842.1605  ]\n",
      " [-2399.767    -1781.7415  ]\n",
      " [-2151.5059   -1803.1548  ]\n",
      " [-2427.0037   -2056.2004  ]\n",
      " [-2469.44     -1907.717   ]\n",
      " [-2482.7239   -1628.7056  ]\n",
      " [-2751.8232   -1420.0305  ]\n",
      " [-2577.5002   -1737.4215  ]\n",
      " [-2432.6196   -1626.6184  ]\n",
      " [-2479.0537   -1754.7822  ]\n",
      " [-2433.539    -1722.5212  ]\n",
      " [-2504.648    -1757.6394  ]\n",
      " [-2407.9575   -1935.9945  ]\n",
      " [-2345.8547   -1974.5513  ]\n",
      " [-2424.2214   -1814.2286  ]\n",
      " [-2492.46     -1453.8696  ]\n",
      " [-3071.1038    -623.1436  ]\n",
      " [-2698.8918   -1276.2988  ]\n",
      " [-2299.6274   -2032.0322  ]\n",
      " [-2589.8062   -1375.2195  ]\n",
      " [-2495.464    -1855.262   ]\n",
      " [-2177.146    -1837.6295  ]\n",
      " [-2535.6787   -1544.2078  ]\n",
      " [-2239.3423   -2099.7136  ]\n",
      " [-2346.116    -1733.3862  ]\n",
      " [-2359.2227   -2110.565   ]\n",
      " [-2383.6228   -1989.7542  ]\n",
      " [-2453.782    -1789.1796  ]\n",
      " [-2670.2754   -1812.8286  ]\n",
      " [ 1679.2429   -3189.8262  ]\n",
      " [-2236.444    -1979.8005  ]\n",
      " [-2301.85     -1795.3759  ]\n",
      " [-2297.0674   -1944.792   ]\n",
      " [-2395.0642   -1839.5431  ]\n",
      " [-2240.6204   -2075.6306  ]\n",
      " [-2229.7402   -1757.8254  ]\n",
      " [-2051.846    -2103.4868  ]\n",
      " [-2213.6252   -1993.8855  ]\n",
      " [-2327.672    -1940.0066  ]\n",
      " [-2265.1633   -1974.446   ]\n",
      " [-2308.958    -1844.2719  ]\n",
      " [-2223.21     -1755.8002  ]\n",
      " [-2366.0823   -1692.1782  ]\n",
      " [-2337.12     -1896.2021  ]\n",
      " [-2365.0535   -1736.9468  ]\n",
      " [-2310.4795   -1779.9065  ]\n",
      " [-2396.7021   -1627.7284  ]\n",
      " [-2489.9255   -1354.6018  ]\n",
      " [-1864.2124   -2022.4067  ]\n",
      " [-2140.836    -1693.6716  ]\n",
      " [-2331.1917   -1782.6544  ]\n",
      " [-2405.1492   -1577.067   ]\n",
      " [-2652.5874   -1611.55    ]\n",
      " [-2278.1606   -1724.283   ]\n",
      " [-2278.746    -1993.7168  ]\n",
      " [-2140.5435   -1597.6472  ]\n",
      " [-2373.2566   -1726.9686  ]\n",
      " [-2393.892    -1482.7153  ]\n",
      " [ -593.9734   -2340.598   ]\n",
      " [-2066.8027   -1219.3835  ]\n",
      " [-2142.378     -864.45984 ]\n",
      " [-2066.3787   -1006.89014 ]\n",
      " [-1894.6997   -1266.4128  ]\n",
      " [-1855.0328   -1266.9573  ]\n",
      " [-2056.1284   -1132.7217  ]\n",
      " [-1973.6682   -1044.9363  ]\n",
      " [-1967.8779   -1075.0372  ]\n",
      " [-2081.9246   -1003.7527  ]\n",
      " [-2156.3906    -662.15454 ]\n",
      " [-2196.2983    -611.3363  ]\n",
      " [-2156.4487    -830.86255 ]\n",
      " [-2218.8486    -739.17487 ]\n",
      " [-2116.582     -785.1738  ]\n",
      " [-2183.5015    -802.25903 ]\n",
      " [-2066.5361    -901.9819  ]\n",
      " [-2072.9272    -925.5975  ]\n",
      " [-2219.4497    -486.8934  ]\n",
      " [-2420.8591     -98.02594 ]\n",
      " [-2114.128     -799.1124  ]\n",
      " [-2175.415     -652.9364  ]\n",
      " [-2237.1772    -457.43842 ]\n",
      " [-2428.9395     -13.614197]\n",
      " [-2935.8086    1162.2405  ]\n",
      " [-2792.6982     795.2221  ]\n",
      " [-2287.966     -591.52026 ]\n",
      " [-2367.5562    -118.5061  ]\n",
      " [-2030.0022    -986.66003 ]\n",
      " [-1868.9952   -1091.9785  ]\n",
      " [-2039.3539    -979.9369  ]\n",
      " [-2031.8888   -1008.22815 ]\n",
      " [-2032.6201    -928.2156  ]\n",
      " [-1934.215     -887.8301  ]\n",
      " [-1984.3745    -842.3421  ]\n",
      " [-2153.6775    -726.3769  ]\n",
      " [-2160.034     -457.301   ]\n",
      " [-2273.2837    -284.70392 ]\n",
      " [-2596.9443     119.25787 ]\n",
      " [-2410.5024    -239.15814 ]\n",
      " [-2213.2354   -1848.6687  ]\n",
      " [-2360.519    -1419.9751  ]\n",
      " [-2781.0435   -1078.7107  ]\n",
      " [-2161.9019   -1543.693   ]\n",
      " [-1933.0311   -1259.623   ]\n",
      " [ 1851.8909   -1999.6277  ]\n",
      " [  558.48315  -1496.3625  ]\n",
      " [  430.4568   -1606.9539  ]\n",
      " [  208.98267  -1428.1324  ]\n",
      " [-2540.5288    -603.5823  ]\n",
      " [-2208.3784    -716.271   ]\n",
      " [-1805.2616    -850.62274 ]\n",
      " [-2149.4658    -737.90546 ]\n",
      " [-1481.5707    -897.04425 ]\n",
      " [-1617.876     -924.4482  ]\n",
      " [-1942.0287    -722.6605  ]\n",
      " [-2124.345     -643.9459  ]\n",
      " [-2167.6458    -683.4325  ]\n",
      " [-2035.4746    -760.5635  ]\n",
      " [-1986.1082    -634.6693  ]\n",
      " [-2013.608     -670.1334  ]\n",
      " [-1970.5212    -774.935   ]\n",
      " [-2142.6604    -517.38135 ]\n",
      " [-2048.9707    -558.486   ]\n",
      " [-2024.2238    -661.9576  ]\n",
      " [-1903.3767    -723.59753 ]\n",
      " [-2183.5103    -482.6516  ]\n",
      " [-1907.7166    -690.75586 ]\n",
      " [-2025.7161    -697.6204  ]\n",
      " [-2073.7087    -717.89935 ]\n",
      " [-1983.5371    -754.9121  ]\n",
      " [-1966.8191    -690.8984  ]\n",
      " [-1928.8566    -506.00433 ]\n",
      " [-2086.9739    -480.91867 ]\n",
      " [-2084.123     -775.1356  ]\n",
      " [-2104.654     -718.45746 ]\n",
      " [-2074.9563    -632.01306 ]\n",
      " [-1984.4628    -503.18958 ]\n",
      " [-2046.3853    -572.74207 ]\n",
      " [-2144.1736    -512.90344 ]\n",
      " [-2066.7612    -806.6201  ]\n",
      " [-2085.9072    -651.65326 ]\n",
      " [-2070.3455    -573.65643 ]\n",
      " [-1996.2284    -618.60657 ]\n",
      " [-2120.0906    -653.11017 ]\n",
      " [-2080.225     -641.40466 ]\n",
      " [-2157.2578    -487.69693 ]\n",
      " [-2148.1282    -654.7483  ]\n",
      " [-2091.356     -733.5592  ]\n",
      " [-2032.055     -775.6615  ]\n",
      " [-1987.8376    -825.023   ]\n",
      " [-2086.6592    -646.2144  ]\n",
      " [-2118.2036    -575.0676  ]\n",
      " [-2002.9873    -652.96533 ]\n",
      " [-2071.3728    -607.9085  ]\n",
      " [-2076.646     -671.08093 ]\n",
      " [-2126.1208    -644.3602  ]\n",
      " [-2034.4341    -670.6419  ]\n",
      " [-1998.3873    -627.5015  ]\n",
      " [-2020.8971    -719.0488  ]\n",
      " [-2111.7478    -627.86365 ]\n",
      " [-2091.7336    -625.96533 ]\n",
      " [-2028.8574    -597.5965  ]\n",
      " [-1988.701     -653.2857  ]\n",
      " [-2108.2698    -623.97003 ]\n",
      " [-2108.5237    -532.3472  ]\n",
      " [-2210.8691    -500.2755  ]\n",
      " [-2122.3433    -462.99548 ]\n",
      " [-2000.1487    -553.96027 ]\n",
      " [-2062.3013    -880.95374 ]\n",
      " [-2087.9045    -622.6787  ]\n",
      " [  -82.106445  -256.46588 ]]\n"
     ]
    }
   ],
   "source": [
    "#j'ai affiché les predictions et les valeurs réelles pour voir la différence\n",
    "print(predictions)\n",
    "#print(test_centroid)"
   ]
  },
  {
   "cell_type": "code",
   "execution_count": 73,
   "metadata": {},
   "outputs": [
    {
     "name": "stdout",
     "output_type": "stream",
     "text": [
      "Accuracy: 1.0\n"
     ]
    }
   ],
   "source": [
    "# fonction de calcul d'accuracy avec un écart de tolérance\n",
    "def calculate_accuracy(y_true, y_pred, threshold):\n",
    "    # calcul de la distance entre la valeur réelle et la valeur prédite\n",
    "    distances = np.linalg.norm(y_true - y_pred, axis=1)\n",
    "    # compter le nombre de prédictions justes\n",
    "    correct_predictions = np.sum(distances < threshold)\n",
    "    # calcul de la précision\n",
    "    accuracy = correct_predictions / len(y_true)\n",
    "    return accuracy\n",
    "\n",
    "# définir un écart de tolérance\n",
    "threshold = 50000  # Adjust this threshold as needed\n",
    "\n",
    "# calcul de l'accuracy pour le modèle #2\n",
    "accuracy = calculate_accuracy(test_centroid, predictions, threshold)\n",
    "print(\"Accuracy:\", accuracy)"
   ]
  },
  {
   "cell_type": "markdown",
   "metadata": {},
   "source": [
    "On a vu qu'avec le modèle de régression, on améliore notre MSE et MAE. On peut essayer de cumuler plusieurs méthodes pour améliorer notre précision."
   ]
  },
  {
   "cell_type": "markdown",
   "metadata": {},
   "source": [
    "**Méthode #3: la régression linéaire avec régularisation (Ridge) et optimisation des hyperparamètres pour trouver les valeurs optimales des paramètres du modèle (recherche par grille)**"
   ]
  },
  {
   "cell_type": "code",
   "execution_count": 74,
   "metadata": {},
   "outputs": [
    {
     "name": "stdout",
     "output_type": "stream",
     "text": [
      "Best Parameters: {'alpha': 10.0}\n",
      "Test MSE: 1863139.4259102251\n",
      "Test MAE: 1143.8993184258095\n",
      "Test R²: 0.030456183535098158\n"
     ]
    }
   ],
   "source": [
    "from sklearn.linear_model import Ridge\n",
    "from sklearn.model_selection import GridSearchCV\n",
    "\n",
    "# Définir le modèle de régression Ridge\n",
    "ridge_model = Ridge()\n",
    "\n",
    "# Définir les hyperparamètres à optimiser\n",
    "param_grid = {'alpha': [0.1, 1.0, 10.0, 100.0]}\n",
    "\n",
    "# Recherche des meilleurs hyperparamètres avec GridSearchCV\n",
    "grid_search = GridSearchCV(ridge_model, param_grid, cv=5, scoring='neg_mean_squared_error')\n",
    "grid_search.fit(X_train_flat, train_centroid)\n",
    "\n",
    "# Meilleurs hyperparamètres\n",
    "best_params = grid_search.best_params_\n",
    "print(\"Best Parameters:\", best_params)\n",
    "\n",
    "# Meilleur modèle\n",
    "best_model = grid_search.best_estimator_\n",
    "\n",
    "# Prédire sur les données de test\n",
    "predictions = best_model.predict(X_test_flat)\n",
    "\n",
    "# Calculer les métriques d'évaluation\n",
    "mse = mean_squared_error(test_centroid, predictions)\n",
    "mae = mean_absolute_error(test_centroid, predictions)\n",
    "r2 = r2_score(test_centroid, predictions)\n",
    "\n",
    "print(\"Test MSE:\", mse)\n",
    "print(\"Test MAE:\", mae)\n",
    "print(\"Test R²:\", r2)\n"
   ]
  },
  {
   "cell_type": "markdown",
   "metadata": {},
   "source": [
    "pour un alpha de 10, on a la meilleure MSE et MAE. Cependant, elle reste semblable à celle de la méthode précédente"
   ]
  },
  {
   "cell_type": "code",
   "execution_count": 76,
   "metadata": {},
   "outputs": [
    {
     "name": "stdout",
     "output_type": "stream",
     "text": [
      "Linear Regression on Levels - Test MSE: 1990667.2467699246\n",
      "Linear Regression on Levels - Test MAE: 1221.4165740435378\n",
      "Linear Regression on Levels - Test R²: -0.06208489326631117\n"
     ]
    }
   ],
   "source": [
    "from sklearn.linear_model import LinearRegression\n",
    "\n",
    "# Feature engineering (calculate overall RMS levels)\n",
    "X_train_levels = np.sqrt(np.mean(np.square(train_audio), axis=1))\n",
    "X_test_levels = np.sqrt(np.mean(np.square(test_audio), axis=1))\n",
    "\n",
    "# Initialize Linear Regression model\n",
    "linear_regression_model = LinearRegression()\n",
    "\n",
    "# Train the Linear Regression model\n",
    "linear_regression_model.fit(X_train_levels, train_centroid)\n",
    "\n",
    "# Predict on the test set\n",
    "predictions_linear_regression = linear_regression_model.predict(X_test_levels)\n",
    "\n",
    "# Evaluate the model\n",
    "mse_linear_regression = mean_squared_error(test_centroid, predictions_linear_regression)\n",
    "mae_linear_regression = mean_absolute_error(test_centroid, predictions_linear_regression)\n",
    "r2_linear_regression = r2_score(test_centroid, predictions_linear_regression)\n",
    "\n",
    "print(\"Linear Regression on Levels - Test MSE:\", mse_linear_regression)\n",
    "print(\"Linear Regression on Levels - Test MAE:\", mae_linear_regression)\n",
    "print(\"Linear Regression on Levels - Test R²:\", r2_linear_regression)\n"
   ]
  },
  {
   "cell_type": "code",
   "execution_count": 69,
   "metadata": {},
   "outputs": [
    {
     "name": "stdout",
     "output_type": "stream",
     "text": [
      "Linear Regression with Additional Features - Test MSE: 1808099.5570678846\n",
      "Linear Regression with Additional Features - Test MAE: 1142.3896880982284\n",
      "Linear Regression with Additional Features - Test R²: 0.013684248181541125\n"
     ]
    }
   ],
   "source": [
    "import numpy as np\n",
    "from scipy.stats import skew, kurtosis\n",
    "\n",
    "# Calculer la moyenne, la variance, le skewness et la kurtosis des signaux audio\n",
    "X_train_mean = np.mean(train_audio, axis=1)\n",
    "X_train_var = np.var(train_audio, axis=1)\n",
    "X_train_skew = skew(train_audio, axis=1)\n",
    "X_train_kurtosis = kurtosis(train_audio, axis=1)\n",
    "\n",
    "X_test_mean = np.mean(test_audio, axis=1)\n",
    "X_test_var = np.var(test_audio, axis=1)\n",
    "X_test_skew = skew(test_audio, axis=1)\n",
    "X_test_kurtosis = kurtosis(test_audio, axis=1)\n",
    "\n",
    "# Concaténer toutes les caractéristiques en une seule matrice pour l'entraînement\n",
    "X_train_features = np.column_stack((X_train_levels, X_train_mean, X_train_var, X_train_skew, X_train_kurtosis))\n",
    "X_test_features = np.column_stack((X_test_levels, X_test_mean, X_test_var, X_test_skew, X_test_kurtosis))\n",
    "\n",
    "# Entraîner le modèle (par exemple, régression linéaire)\n",
    "linear_regression_model = LinearRegression()\n",
    "linear_regression_model.fit(X_train_features, train_centroid)\n",
    "\n",
    "# Prédire sur les données de test\n",
    "predictions_linear_regression = linear_regression_model.predict(X_test_features)\n",
    "\n",
    "# Évaluer le modèle\n",
    "mse_linear_regression = mean_squared_error(test_centroid, predictions_linear_regression)\n",
    "mae_linear_regression = mean_absolute_error(test_centroid, predictions_linear_regression)\n",
    "r2_linear_regression = r2_score(test_centroid, predictions_linear_regression)\n",
    "\n",
    "print(\"Linear Regression with Additional Features - Test MSE:\", mse_linear_regression)\n",
    "print(\"Linear Regression with Additional Features - Test MAE:\", mae_linear_regression)\n",
    "print(\"Linear Regression with Additional Features - Test R²:\", r2_linear_regression)\n"
   ]
  },
  {
   "cell_type": "markdown",
   "metadata": {},
   "source": [
    "### Travail sur la salle H2"
   ]
  },
  {
   "cell_type": "markdown",
   "metadata": {},
   "source": [
    "**Affichage du centroid**"
   ]
  },
  {
   "cell_type": "code",
   "execution_count": null,
   "metadata": {},
   "outputs": [
    {
     "name": "stdout",
     "output_type": "stream",
     "text": [
      "[[-2406.85413008 -2443.62906004]\n",
      " [-1923.16230038 -2504.30576997]\n",
      " [-1615.29307549 -2525.71107555]\n",
      " [-1234.84729435 -2581.21590946]\n",
      " [ -906.89320474 -2648.96828851]\n",
      " [ -579.82451164 -2563.38746474]\n",
      " [ -258.89043633 -2501.99822189]\n",
      " [ -237.00812692 -2957.79113999]\n",
      " [ -608.16773853 -2894.26845589]\n",
      " [ -920.67771947 -2892.68441764]\n",
      " [-1177.38289287 -3050.12473983]\n",
      " [-1690.95162773 -3023.00826184]\n",
      " [-1968.49135428 -3048.59689339]\n",
      " [-2401.44182176 -2925.40384273]\n",
      " [-2626.65068051 -2353.52639219]\n",
      " [-2945.10567004 -2270.29924636]\n",
      " [-3288.80884616 -2179.77519901]\n",
      " [-3543.43725461 -2122.72140672]\n",
      " [-3818.97939345 -2074.06640841]\n",
      " [-3787.00508742 -1745.78914635]\n",
      " [-3440.47071217 -1786.24662486]\n",
      " [-3126.89926719 -1778.7456592 ]\n",
      " [-2780.8277654  -1806.35696377]\n",
      " [-2443.03492952 -1839.64542774]\n",
      " [-2359.37110303 -1517.60616977]\n",
      " [-2643.69001771 -1476.99863966]\n",
      " [-3045.54399981 -1635.42668901]\n",
      " [-3302.78792751 -1472.55710516]\n",
      " [-3760.33837488 -1417.04328708]\n",
      " [-4041.78587419 -1398.58686915]\n",
      " [-3651.45722762 -1008.85761266]\n",
      " [-3355.62188694 -1089.07882205]\n",
      " [-3048.65658737 -1200.21177144]\n",
      " [-2734.10489942 -1134.21199905]\n",
      " [-2435.83186031 -1178.45429302]\n",
      " [-2155.69607285 -1183.03153078]\n",
      " [-1847.07850153 -1235.69062946]\n",
      " [-1557.37560866 -1234.82759791]\n",
      " [-1531.22328309 -1228.9545573 ]\n",
      " [-1207.64306356 -1242.82564985]\n",
      " [ -998.26096962 -1242.71378666]\n",
      " [ -622.02513945 -1268.3093557 ]\n",
      " [ -355.68967957 -1267.79753437]\n",
      " [  -95.26894965 -1276.82377107]\n",
      " [ -120.26384771 -1058.74805353]\n",
      " [ -332.36265002 -1022.65309523]\n",
      " [ -640.88424352 -1024.24696922]\n",
      " [ -944.27035687  -979.93555298]\n",
      " [-1240.93341209  -967.64966289]\n",
      " [-1519.16112413  -934.05588423]\n",
      " [-1898.31291437  -906.7704297 ]\n",
      " [-2174.34009065  -862.83519934]\n",
      " [-2448.47165846  -862.73729902]\n",
      " [-2743.57430041  -852.31660839]\n",
      " [-3055.60116767  -949.73624758]\n",
      " [-3350.74501924  -826.39623757]\n",
      " [-3652.95673206  -768.16921515]\n",
      " [-4026.15742864  -721.68769267]\n",
      " [-4212.45524053  -491.83103693]\n",
      " [-3910.18060853  -475.75206615]\n",
      " [-3575.65161611  -547.45314677]\n",
      " [-3305.80330865  -515.83720953]\n",
      " [-3010.80451599  -568.44553128]\n",
      " [-2736.82840499  -640.02346683]\n",
      " [-2432.52236233  -593.033447  ]\n",
      " [-2118.32611622  -608.1245535 ]\n",
      " [-1842.72460939  -610.68079444]\n",
      " [-3180.87294097    11.6457925 ]\n",
      " [-2974.23113827    51.43045306]\n",
      " [-2675.1647806     29.52612472]\n",
      " [-2367.76165375    16.76693426]\n",
      " [-1998.05582416   -24.53025921]\n",
      " [-1494.81792534     7.12123641]\n",
      " [ -994.54752374    17.99301039]\n",
      " [ -538.13451818   -43.14113727]\n",
      " [ -133.59410862   -44.02143921]\n",
      " [ -296.63615487   512.39135969]\n",
      " [ -793.05686194   542.30317284]\n",
      " [-1271.43797693   573.81320695]\n",
      " [-1767.79202043   612.59550976]\n",
      " [-2348.34764957   595.50337033]\n",
      " [-3007.61226617   712.21723471]\n",
      " [-2930.96808593  1256.13317503]\n",
      " [-2316.53559434  1123.38954864]\n",
      " [-1679.50134433  1099.96555737]\n",
      " [-1042.58473051  1009.9280883 ]\n",
      " [ -665.15345651   977.97257872]\n",
      " [-3526.30838217  -318.91208246]\n",
      " [-2978.56597766  -269.83433736]\n",
      " [-2403.52308428  -295.7705034 ]\n",
      " [-1982.38114262  -285.30077693]\n",
      " [-3035.68912165   401.38123903]\n",
      " [-2313.41459509   315.47103584]\n",
      " [-1782.23700971   240.29441206]\n",
      " [-1171.39643252   256.18655269]\n",
      " [ -547.33577587   237.51851395]\n",
      " [  -13.17036956   235.70076054]\n",
      " [ -557.85356137   703.38566361]\n",
      " [-1000.85194532   772.02964634]\n",
      " [-1505.96410651   815.53440699]\n",
      " [-2122.85430173   872.72639732]\n",
      " [-2652.683178     858.21826774]\n",
      " [-3089.8571679    970.63036148]\n",
      " [-2537.70644544   372.03539505]]\n"
     ]
    }
   ],
   "source": [
    "print(data_array_H2_centroid)"
   ]
  },
  {
   "cell_type": "code",
   "execution_count": null,
   "metadata": {},
   "outputs": [
    {
     "data": {
      "image/png": "[encoded data removed]",
      "text/plain": [
       "<Figure size 800x600 with 1 Axes>"
      ]
     },
     "metadata": {},
     "output_type": "display_data"
    }
   ],
   "source": [
    "x = data_array_H2_centroid[:, 0]\n",
    "y = data_array_H2_centroid[:, 1]\n",
    "\n",
    "# Tracer les points\n",
    "plt.figure(figsize=(8, 6))\n",
    "plt.scatter(x, y, s=10, c='blue', marker='o', alpha=0.5)  # s: taille des points, c: couleur, marker: type de marqueur, alpha: transparence\n",
    "plt.title('Tracé des points')\n",
    "plt.xlabel('X')\n",
    "plt.ylabel('Y')\n",
    "plt.grid(True)\n",
    "plt.show()"
   ]
  },
  {
   "cell_type": "markdown",
   "metadata": {},
   "source": [
    "**Affichage et process du deconvoled**"
   ]
  },
  {
   "cell_type": "code",
   "execution_count": null,
   "metadata": {},
   "outputs": [],
   "source": []
  }
 ],
 "metadata": {
  "kernelspec": {
   "display_name": "base",
   "language": "python",
   "name": "python3"
  },
  "language_info": {
   "codemirror_mode": {
    "name": "ipython",
    "version": 3
   },
   "file_extension": ".py",
   "mimetype": "text/x-python",
   "name": "python",
   "nbconvert_exporter": "python",
   "pygments_lexer": "ipython3",
   "version": "3.11.6"
  }
 },
 "nbformat": 4,
 "nbformat_minor": 2
}
